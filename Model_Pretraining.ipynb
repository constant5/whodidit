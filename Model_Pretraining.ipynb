{
 "cells": [
  {
   "cell_type": "markdown",
   "metadata": {},
   "source": [
    "# Fine-tuning BERT on CSI data with MLM"
   ]
  },
  {
   "cell_type": "code",
   "execution_count": 117,
   "metadata": {
    "collapsed": false,
    "pycharm": {
     "name": "#%%\n"
    }
   },
   "outputs": [],
   "source": [
    "import torch\n",
    "from torch.optim import AdamW\n",
    "import pandas as pd\n",
    "from glob import glob\n",
    "import numpy as np\n",
    "from transformers import BertTokenizer, BertForMaskedLM\n",
    "from tqdm.auto import tqdm"
   ]
  },
  {
   "cell_type": "code",
   "execution_count": 2,
   "metadata": {},
   "outputs": [
    {
     "name": "stderr",
     "output_type": "stream",
     "text": [
      "Downloading: 100%|██████████| 420M/420M [00:19<00:00, 22.9MB/s] \n",
      "Some weights of the model checkpoint at bert-base-uncased were not used when initializing BertForMaskedLM: ['cls.seq_relationship.weight', 'cls.seq_relationship.bias']\n",
      "- This IS expected if you are initializing BertForMaskedLM from the checkpoint of a model trained on another task or with another architecture (e.g. initializing a BertForSequenceClassification model from a BertForPreTraining model).\n",
      "- This IS NOT expected if you are initializing BertForMaskedLM from the checkpoint of a model that you expect to be exactly identical (initializing a BertForSequenceClassification model from a BertForSequenceClassification model).\n"
     ]
    }
   ],
   "source": [
    "# load BERT tokenizer and model\n",
    "tokenizer = BertTokenizer.from_pretrained(\"bert-base-uncased\")\n",
    "model = BertForMaskedLM.from_pretrained(\"bert-base-uncased\")"
   ]
  },
  {
   "cell_type": "code",
   "execution_count": 118,
   "metadata": {},
   "outputs": [
    {
     "data": {
      "text/plain": [
       "216856"
      ]
     },
     "execution_count": 118,
     "metadata": {},
     "output_type": "execute_result"
    }
   ],
   "source": [
    "# get path to all sub files\n",
    "sub_files = glob('cleaned_subs/*.tsv')\n",
    "\n",
    "# return all subs lines as list\n",
    "def data_loader(files):\n",
    "    'loads texts into a single list'\n",
    "    texts = []\n",
    "    for f in sub_files:\n",
    "        df = pd.read_csv(f, sep='\\t', usecols=['text'])\n",
    "        texts += list(df[\"text\"].values)\n",
    "    return texts\n",
    "\n",
    "data = data_loader(sub_files)\n",
    "len(data)"
   ]
  },
  {
   "cell_type": "code",
   "execution_count": 119,
   "metadata": {},
   "outputs": [
    {
     "name": "stdout",
     "output_type": "stream",
     "text": [
      "My name is Royce Harmon.\n",
      "You should watch it.\n"
     ]
    }
   ],
   "source": [
    "print(data[0])\n",
    "print(data[-1])"
   ]
  },
  {
   "cell_type": "code",
   "execution_count": 79,
   "metadata": {},
   "outputs": [],
   "source": [
    "# tokenize the data with the BERT tokenizer\n",
    "inputs = tokenizer(data, \n",
    "    max_length=512,\n",
    "    truncation=True,\n",
    "    padding=True,\n",
    "    return_tensors='pt')\n",
    "\n",
    "print(inputs.keys())\n",
    "print(inputs['input_ids'].shape)"
   ]
  },
  {
   "cell_type": "code",
   "execution_count": 83,
   "metadata": {},
   "outputs": [
    {
     "data": {
      "text/plain": [
       "dict_keys(['input_ids', 'token_type_ids', 'attention_mask', 'labels'])"
      ]
     },
     "execution_count": 83,
     "metadata": {},
     "output_type": "execute_result"
    }
   ],
   "source": [
    "# deep copy the inputs to labels (because we will mask the inputs)\n",
    "inputs['labels'] = inputs['input_ids'].detach().clone()\n",
    "inputs.keys()"
   ]
  },
  {
   "cell_type": "code",
   "execution_count": 101,
   "metadata": {},
   "outputs": [
    {
     "data": {
      "text/plain": [
       "(torch.Size([216856, 91]), torch.Size([216856, 91]))"
      ]
     },
     "execution_count": 101,
     "metadata": {},
     "output_type": "execute_result"
    }
   ],
   "source": [
    "# mask with 15% probability\n",
    "\n",
    "# create random tensor(0-1) of size inputs\n",
    "random_tensor = torch.rand(inputs['input_ids'].shape)\n",
    "# create a mask with 15% selected while also ingnoring\n",
    "# [cls] == 101, [sep] == 102, and [pad] == 0\n",
    "masked_tensor = (random_tensor < 0.15)*(inputs['input_ids'] != 101)*(inputs['input_ids'] != 102)*(inputs['input_ids'] != 0)\n",
    "\n",
    "# check sizes align\n",
    "masked_tensor.shape, inputs['input_ids'].shape"
   ]
  },
  {
   "cell_type": "code",
   "execution_count": 102,
   "metadata": {},
   "outputs": [
    {
     "name": "stdout",
     "output_type": "stream",
     "text": [
      "[[5], [2, 5, 13], [9], [2, 3, 9, 11], [9, 13, 16], [4], [5], [7], [1, 6], [3], [2], [6, 14], [10, 11, 13], [], [], [], [6], [7, 17, 19, 27], [2], []]\n"
     ]
    }
   ],
   "source": [
    "# getting indices where masked is True\n",
    "non_zero_indices = []\n",
    "for mask in masked_tensor:\n",
    "    non_zero_indices.append(torch.flatten(mask.nonzero()).tolist())\n",
    "\n",
    "print(non_zero_indices[:20])"
   ]
  },
  {
   "cell_type": "code",
   "execution_count": 103,
   "metadata": {},
   "outputs": [],
   "source": [
    "# replace masked values with 103\n",
    "for i in range(len(inputs['input_ids'])):\n",
    "    inputs['input_ids'][i, non_zero_indices[i]] = 103"
   ]
  },
  {
   "cell_type": "code",
   "execution_count": 105,
   "metadata": {},
   "outputs": [],
   "source": [
    "## pytorch dataset class\n",
    "\n",
    "class CSIDataset(torch.utils.data.Dataset):\n",
    "    def __init__(self, encodings):\n",
    "        self.encodings = encodings\n",
    "    def __len__(self):\n",
    "        return len(self.encodings)\n",
    "\n",
    "    def __getitem__(self, index):\n",
    "        input_ids = self.encodings['input_ids'][index]\n",
    "        attention_mask = self.encodings['attention_mask'][index]\n",
    "        token_type_ids = self.encodings['token_type_ids'][index]\n",
    "        labels = self.encodings['labels'][index]\n",
    "        return {\n",
    "            'input_ids':input_ids, \n",
    "            'attention_mask':attention_mask,\n",
    "            'token_type_ids':token_type_ids,\n",
    "            'labels': labels\n",
    "        }\n"
   ]
  },
  {
   "cell_type": "code",
   "execution_count": 106,
   "metadata": {},
   "outputs": [],
   "source": [
    "# create torch dataset\n",
    "dataset = CSIDataset(inputs)"
   ]
  },
  {
   "cell_type": "code",
   "execution_count": 107,
   "metadata": {},
   "outputs": [],
   "source": [
    "# create torch data loader\n",
    "data_loader = torch.utils.data.DataLoader(\n",
    "    dataset,\n",
    "    batch_size=16,\n",
    "    shuffle=True\n",
    "    )"
   ]
  },
  {
   "cell_type": "code",
   "execution_count": 91,
   "metadata": {},
   "outputs": [
    {
     "data": {
      "text/plain": [
       "device(type='cpu')"
      ]
     },
     "execution_count": 91,
     "metadata": {},
     "output_type": "execute_result"
    }
   ],
   "source": [
    "device = torch.device('cuda') if torch.cuda.is_available() else torch.device('cpu')\n",
    "device"
   ]
  },
  {
   "cell_type": "code",
   "execution_count": 63,
   "metadata": {},
   "outputs": [],
   "source": [
    "model.to(device);"
   ]
  },
  {
   "cell_type": "code",
   "execution_count": 111,
   "metadata": {},
   "outputs": [],
   "source": [
    "epochs = 32\n",
    "optimizer = AdamW(model.parameters(), lr=1e-5)\n",
    "\n",
    "model.train();\n"
   ]
  },
  {
   "cell_type": "code",
   "execution_count": 112,
   "metadata": {},
   "outputs": [
    {
     "name": "stderr",
     "output_type": "stream",
     "text": [
      "Epoch: 0: 100%|██████████| 1/1 [00:04<00:00,  4.57s/it, loss=14.4]\n",
      "Epoch: 1: 100%|██████████| 1/1 [00:04<00:00,  4.41s/it, loss=13.4]\n",
      "Epoch: 2: 100%|██████████| 1/1 [00:04<00:00,  4.18s/it, loss=12.9]\n",
      "Epoch: 3: 100%|██████████| 1/1 [00:04<00:00,  4.42s/it, loss=12.4]\n",
      "Epoch: 4: 100%|██████████| 1/1 [00:04<00:00,  4.40s/it, loss=11.9]\n",
      "Epoch: 5: 100%|██████████| 1/1 [00:04<00:00,  4.19s/it, loss=11.4]\n",
      "Epoch: 6: 100%|██████████| 1/1 [00:04<00:00,  4.34s/it, loss=11.1]\n",
      "Epoch: 7: 100%|██████████| 1/1 [00:04<00:00,  4.34s/it, loss=10.7]\n",
      "Epoch: 8: 100%|██████████| 1/1 [00:04<00:00,  4.22s/it, loss=10.3]\n",
      "Epoch: 9: 100%|██████████| 1/1 [00:04<00:00,  4.56s/it, loss=9.87]\n",
      "Epoch: 10: 100%|██████████| 1/1 [00:05<00:00,  5.46s/it, loss=9.59]\n",
      "Epoch: 11: 100%|██████████| 1/1 [00:05<00:00,  5.53s/it, loss=9.18]\n",
      "Epoch: 12: 100%|██████████| 1/1 [00:04<00:00,  4.72s/it, loss=8.87]\n",
      "Epoch: 13: 100%|██████████| 1/1 [00:04<00:00,  4.76s/it, loss=8.47]\n",
      "Epoch: 14: 100%|██████████| 1/1 [00:05<00:00,  5.23s/it, loss=8.11]\n",
      "Epoch: 15: 100%|██████████| 1/1 [00:04<00:00,  4.74s/it, loss=7.86]\n",
      "Epoch: 16: 100%|██████████| 1/1 [00:04<00:00,  4.75s/it, loss=7.57]\n",
      "Epoch: 17: 100%|██████████| 1/1 [00:04<00:00,  4.93s/it, loss=7.22]\n",
      "Epoch: 18: 100%|██████████| 1/1 [00:05<00:00,  5.07s/it, loss=6.87]\n",
      "Epoch: 19: 100%|██████████| 1/1 [00:05<00:00,  5.05s/it, loss=6.69]\n",
      "Epoch: 20: 100%|██████████| 1/1 [00:04<00:00,  4.95s/it, loss=6.47]\n",
      "Epoch: 21: 100%|██████████| 1/1 [00:05<00:00,  5.56s/it, loss=6.24]\n",
      "Epoch: 22: 100%|██████████| 1/1 [00:07<00:00,  7.53s/it, loss=6.03]\n",
      "Epoch: 23: 100%|██████████| 1/1 [00:05<00:00,  5.52s/it, loss=5.82]\n",
      "Epoch: 24: 100%|██████████| 1/1 [00:05<00:00,  5.28s/it, loss=5.69]\n",
      "Epoch: 25: 100%|██████████| 1/1 [00:05<00:00,  5.26s/it, loss=5.56]\n",
      "Epoch: 26: 100%|██████████| 1/1 [00:05<00:00,  5.19s/it, loss=5.4]\n",
      "Epoch: 27: 100%|██████████| 1/1 [00:05<00:00,  5.16s/it, loss=5.18]\n",
      "Epoch: 28: 100%|██████████| 1/1 [00:05<00:00,  5.53s/it, loss=5.05]\n",
      "Epoch: 29: 100%|██████████| 1/1 [00:05<00:00,  5.21s/it, loss=4.93]\n",
      "Epoch: 30: 100%|██████████| 1/1 [00:05<00:00,  5.32s/it, loss=4.77]\n",
      "Epoch: 31: 100%|██████████| 1/1 [00:05<00:00,  5.18s/it, loss=4.61]\n"
     ]
    }
   ],
   "source": [
    "\n",
    "# training loop\n",
    "for epoch in range(epochs):\n",
    "    loop = tqdm(data_loader)\n",
    "    for batch in loop:\n",
    "        optimizer.zero_grad()\n",
    "        input_ids = batch['input_ids']\n",
    "        # print(input_ids.shape)\n",
    "        labels = batch['labels']\n",
    "        attention_mask =  batch['attention_mask']\n",
    "        outputs = model(input_ids=input_ids, attention_mask=attention_mask, labels=labels)\n",
    "        loss = outputs.loss\n",
    "        loss.backward()\n",
    "        optimizer.step()\n",
    "\n",
    "        loop.set_description(f'Epoch: {epoch}')\n",
    "        loop.set_postfix(loss=loss.item())\n"
   ]
  },
  {
   "cell_type": "code",
   "execution_count": 114,
   "metadata": {},
   "outputs": [],
   "source": [
    "model.save_pretrained('model/bert-base-uncased-csi-trained');"
   ]
  },
  {
   "cell_type": "code",
   "execution_count": 155,
   "metadata": {},
   "outputs": [
    {
     "name": "stdout",
     "output_type": "stream",
     "text": [
      "\t[MASK]: 'see'  | weights: 0.11975984275341034\n",
      "\t[MASK]: 'try'  | weights: 0.10524814575910568\n",
      "\t[MASK]: 'do'  | weights: 0.07006993889808655\n",
      "\t[MASK]: 'have'  | weights: 0.06898682564496994\n",
      "\t[MASK]: 'take'  | weights: 0.055882424116134644\n"
     ]
    }
   ],
   "source": [
    "# model = BertForMaskedLM.from_pretrained(\"bert-base-uncased\");\n",
    "model.from_pretrained('model/bert-base-uncased-csi-trained');\n",
    "\n",
    "\n",
    "def predict_masked_sent(text, top_k=5):\n",
    "    # Tokenize input\n",
    "    text = f\"[CLS] {text} [SEP]\"\n",
    "    tokenized_text = tokenizer.tokenize(text)\n",
    "    masked_index = tokenized_text.index(\"[MASK]\")\n",
    "    indexed_tokens = tokenizer.convert_tokens_to_ids(tokenized_text)\n",
    "    tokens_tensor = torch.tensor([indexed_tokens])\n",
    "    # tokens_tensor = tokens_tensor.to('cuda')    # if you have gpu\n",
    "\n",
    "    # Predict all tokens\n",
    "    with torch.no_grad():\n",
    "        outputs = model(tokens_tensor)\n",
    "        predictions = outputs[0]\n",
    "\n",
    "    probs = torch.nn.functional.softmax(predictions[0, masked_index], dim=-1)\n",
    "    top_k_weights, top_k_indices = torch.topk(probs, top_k, sorted=True)\n",
    "\n",
    "    for i, pred_idx in enumerate(top_k_indices):\n",
    "        predicted_token = tokenizer.convert_ids_to_tokens([pred_idx])[0]\n",
    "        token_weight = top_k_weights[i]\n",
    "        print(\"\\t[MASK]: '%s'\"%predicted_token, \" | weights:\", float(token_weight))\n",
    "\n",
    "        \n",
    "predict_masked_sent(\"You should [MASK] it.\", top_k=5)\n"
   ]
  },
  {
   "cell_type": "code",
   "execution_count": 157,
   "metadata": {},
   "outputs": [
    {
     "name": "stdout",
     "output_type": "stream",
     "text": [
      "Hey, I bang all my stars.\n",
      "Hey, [MASK] bang all my stars.\n",
      "\t[MASK]: 'i'  | weights: 0.7906402945518494\n",
      "\t[MASK]: 'you'  | weights: 0.09978710114955902\n",
      "\t[MASK]: 'to'  | weights: 0.011724074371159077\n",
      "\t[MASK]: 'they'  | weights: 0.010610293596982956\n",
      "\t[MASK]: 'and'  | weights: 0.010334915481507778\n",
      "I think we may have our suicide note.\n",
      "I think we may have our [MASK] note.\n",
      "\t[MASK]: 'own'  | weights: 0.6261798739433289\n",
      "\t[MASK]: 'last'  | weights: 0.08776261657476425\n",
      "\t[MASK]: 'next'  | weights: 0.040216114372015\n",
      "\t[MASK]: 'final'  | weights: 0.03819900378584862\n",
      "\t[MASK]: 'first'  | weights: 0.024385934695601463\n",
      "The killer used a plasma cutter to gain entry.\n",
      "The killer used [MASK] plasma cutter to gain entry.\n",
      "\t[MASK]: 'a'  | weights: 0.8931524157524109\n",
      "\t[MASK]: 'the'  | weights: 0.07068412750959396\n",
      "\t[MASK]: 'his'  | weights: 0.03153619542717934\n",
      "\t[MASK]: 'her'  | weights: 0.0014902163529768586\n",
      "\t[MASK]: 'another'  | weights: 0.0007962686941027641\n",
      "I'm so, so sorry to bug you, Daddy.\n",
      "I'm so, so [MASK] to bug you, Daddy.\n",
      "\t[MASK]: 'sorry'  | weights: 0.9794901013374329\n",
      "\t[MASK]: 'going'  | weights: 0.01246893871575594\n",
      "\t[MASK]: 'happy'  | weights: 0.0022120086941868067\n",
      "\t[MASK]: 'trying'  | weights: 0.00159510038793087\n",
      "\t[MASK]: 'afraid'  | weights: 0.0010334860999137163\n",
      "ever since Hodges accused me of trying to steal Wendy...\n",
      "ever since Hodges accused me of [MASK] to steal Wendy...\n",
      "\t[MASK]: 'trying'  | weights: 0.8695954084396362\n",
      "\t[MASK]: 'attempting'  | weights: 0.04800939932465553\n",
      "\t[MASK]: 'wanting'  | weights: 0.03705310449004173\n",
      "\t[MASK]: 'planning'  | weights: 0.011148120276629925\n",
      "\t[MASK]: 'plotting'  | weights: 0.004145741928368807\n"
     ]
    }
   ],
   "source": [
    "import random\n",
    "for sent in random.sample(data, 5):\n",
    "    print(sent)\n",
    "    words = sent.split(' ')\n",
    "    mask_int = np.random.randint(0,len(words),1)\n",
    "    words[mask_int[0]] = '[MASK]'\n",
    "    masked_sent = ' '.join(words)\n",
    "    print(masked_sent)\n",
    "    predict_masked_sent(masked_sent, top_k=5)\n"
   ]
  },
  {
   "cell_type": "code",
   "execution_count": null,
   "metadata": {},
   "outputs": [],
   "source": []
  }
 ],
 "metadata": {
  "interpreter": {
   "hash": "c0a2902978563c8bcc7f82062c2ad45366e70aba911d3cca21d6ee8298cd12a7"
  },
  "kernelspec": {
   "display_name": "Python 3.8.8 ('venv': venv)",
   "language": "python",
   "name": "python3"
  },
  "language_info": {
   "codemirror_mode": {
    "name": "ipython",
    "version": 3
   },
   "file_extension": ".py",
   "mimetype": "text/x-python",
   "name": "python",
   "nbconvert_exporter": "python",
   "pygments_lexer": "ipython3",
   "version": "3.8.8"
  },
  "orig_nbformat": 4
 },
 "nbformat": 4,
 "nbformat_minor": 2
}
