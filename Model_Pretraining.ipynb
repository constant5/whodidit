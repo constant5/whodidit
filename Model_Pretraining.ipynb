{
 "cells": [
  {
   "cell_type": "markdown",
   "metadata": {},
   "source": [
    "# Fine-tuning BERT on CSI data with MLM"
   ]
  },
  {
   "cell_type": "code",
   "execution_count": 7,
   "metadata": {
    "collapsed": false,
    "pycharm": {
     "name": "#%%\n"
    }
   },
   "outputs": [],
   "source": [
    "import torch\n",
    "from torch.optim import AdamW\n",
    "import pandas as pd\n",
    "from glob import glob\n",
    "import numpy as np\n",
    "from transformers import BertTokenizer, BertForMaskedLM\n",
    "from tqdm.auto import tqdm"
   ]
  },
  {
   "cell_type": "code",
   "execution_count": 8,
   "metadata": {},
   "outputs": [
    {
     "name": "stderr",
     "output_type": "stream",
     "text": [
      "Some weights of the model checkpoint at bert-base-uncased were not used when initializing BertForMaskedLM: ['cls.seq_relationship.weight', 'cls.seq_relationship.bias']\n",
      "- This IS expected if you are initializing BertForMaskedLM from the checkpoint of a model trained on another task or with another architecture (e.g. initializing a BertForSequenceClassification model from a BertForPreTraining model).\n",
      "- This IS NOT expected if you are initializing BertForMaskedLM from the checkpoint of a model that you expect to be exactly identical (initializing a BertForSequenceClassification model from a BertForSequenceClassification model).\n"
     ]
    }
   ],
   "source": [
    "# load BERT tokenizer and model\n",
    "tokenizer = BertTokenizer.from_pretrained(\"bert-base-uncased\")\n",
    "model = BertForMaskedLM.from_pretrained(\"bert-base-uncased\")"
   ]
  },
  {
   "cell_type": "code",
   "execution_count": 9,
   "metadata": {},
   "outputs": [
    {
     "data": {
      "text/plain": [
       "216856"
      ]
     },
     "execution_count": 9,
     "metadata": {},
     "output_type": "execute_result"
    }
   ],
   "source": [
    "# get path to all sub files\n",
    "sub_files = glob('cleaned_subs/*.tsv')\n",
    "\n",
    "# return all subs lines as list\n",
    "def data_loader(files):\n",
    "    'loads texts into a single list'\n",
    "    texts = []\n",
    "    for f in sub_files:\n",
    "        df = pd.read_csv(f, sep='\\t', usecols=['text'])\n",
    "        texts += list(df[\"text\"].values)\n",
    "    return texts\n",
    "\n",
    "data = data_loader(sub_files)\n",
    "len(data)"
   ]
  },
  {
   "cell_type": "code",
   "execution_count": 10,
   "metadata": {},
   "outputs": [
    {
     "name": "stdout",
     "output_type": "stream",
     "text": [
      "My name is Royce Harmon.\n",
      "You should watch it.\n"
     ]
    }
   ],
   "source": [
    "print(data[0])\n",
    "print(data[-1])"
   ]
  },
  {
   "cell_type": "code",
   "execution_count": 11,
   "metadata": {},
   "outputs": [
    {
     "name": "stdout",
     "output_type": "stream",
     "text": [
      "dict_keys(['input_ids', 'token_type_ids', 'attention_mask'])\n",
      "torch.Size([216856, 91])\n"
     ]
    }
   ],
   "source": [
    "# tokenize the data with the BERT tokenizer\n",
    "inputs = tokenizer(data, \n",
    "    max_length=512,\n",
    "    truncation=True,\n",
    "    padding=True,\n",
    "    return_tensors='pt')\n",
    "\n",
    "print(inputs.keys())\n",
    "print(inputs['input_ids'].shape)"
   ]
  },
  {
   "cell_type": "code",
   "execution_count": 30,
   "metadata": {},
   "outputs": [
    {
     "data": {
      "text/plain": [
       "tensor([  101,  2026,  2171,  2003, 14789, 25546,  1012,   102,     0,     0,\n",
       "            0,     0,     0,     0,     0,     0,     0,     0,     0,     0,\n",
       "            0,     0,     0,     0,     0,     0,     0,     0,     0,     0,\n",
       "            0,     0,     0,     0,     0,     0,     0,     0,     0,     0,\n",
       "            0,     0,     0,     0,     0,     0,     0,     0,     0,     0,\n",
       "            0,     0,     0,     0,     0,     0,     0,     0,     0,     0,\n",
       "            0,     0,     0,     0,     0,     0,     0,     0,     0,     0,\n",
       "            0,     0,     0,     0,     0,     0,     0,     0,     0,     0,\n",
       "            0,     0,     0,     0,     0,     0,     0,     0,     0,     0,\n",
       "            0])"
      ]
     },
     "execution_count": 30,
     "metadata": {},
     "output_type": "execute_result"
    }
   ],
   "source": [
    "inputs.input_ids[0]"
   ]
  },
  {
   "cell_type": "code",
   "execution_count": 12,
   "metadata": {},
   "outputs": [
    {
     "data": {
      "text/plain": [
       "dict_keys(['input_ids', 'token_type_ids', 'attention_mask', 'labels'])"
      ]
     },
     "execution_count": 12,
     "metadata": {},
     "output_type": "execute_result"
    }
   ],
   "source": [
    "# deep copy the inputs to labels (because we will mask the inputs)\n",
    "inputs['labels'] = inputs['input_ids'].detach().clone()\n",
    "inputs.keys()"
   ]
  },
  {
   "cell_type": "code",
   "execution_count": 13,
   "metadata": {},
   "outputs": [
    {
     "data": {
      "text/plain": [
       "(torch.Size([216856, 91]), torch.Size([216856, 91]))"
      ]
     },
     "execution_count": 13,
     "metadata": {},
     "output_type": "execute_result"
    }
   ],
   "source": [
    "# mask with 15% probability\n",
    "\n",
    "# create random tensor(0-1) of size inputs\n",
    "random_tensor = torch.rand(inputs['input_ids'].shape)\n",
    "# create a mask with 15% selected while also ingnoring\n",
    "# [cls] == 101, [sep] == 102, and [pad] == 0\n",
    "masked_tensor = (random_tensor < 0.15)*(inputs['input_ids'] != 101)*(inputs['input_ids'] != 102)*(inputs['input_ids'] != 0)\n",
    "\n",
    "# check sizes align\n",
    "masked_tensor.shape, inputs['input_ids'].shape"
   ]
  },
  {
   "cell_type": "code",
   "execution_count": 14,
   "metadata": {},
   "outputs": [
    {
     "name": "stdout",
     "output_type": "stream",
     "text": [
      "[[], [4, 13], [], [4, 6], [3, 17], [5], [5, 6], [9], [], [4], [3], [13], [5, 12, 17], [], [1, 5], [], [1], [5, 22, 24], [4], [1]]\n"
     ]
    }
   ],
   "source": [
    "# getting indices where masked is True\n",
    "non_zero_indices = []\n",
    "for mask in masked_tensor:\n",
    "    non_zero_indices.append(torch.flatten(mask.nonzero()).tolist())\n",
    "\n",
    "print(non_zero_indices[:20])"
   ]
  },
  {
   "cell_type": "code",
   "execution_count": 15,
   "metadata": {},
   "outputs": [],
   "source": [
    "# replace masked values with 103\n",
    "for i in range(len(inputs['input_ids'])):\n",
    "    inputs['input_ids'][i, non_zero_indices[i]] = 103"
   ]
  },
  {
   "cell_type": "code",
   "execution_count": 16,
   "metadata": {},
   "outputs": [],
   "source": [
    "## pytorch dataset class\n",
    "\n",
    "class CSIDataset(torch.utils.data.Dataset):\n",
    "    def __init__(self, encodings):\n",
    "        self.encodings = encodings\n",
    "    def __len__(self):\n",
    "        return len(self.encodings)\n",
    "\n",
    "    def __getitem__(self, index):\n",
    "        input_ids = self.encodings['input_ids'][index]\n",
    "        attention_mask = self.encodings['attention_mask'][index]\n",
    "        token_type_ids = self.encodings['token_type_ids'][index]\n",
    "        labels = self.encodings['labels'][index]\n",
    "        return {\n",
    "            'input_ids':input_ids, \n",
    "            'attention_mask':attention_mask,\n",
    "            'token_type_ids':token_type_ids,\n",
    "            'labels': labels\n",
    "        }\n"
   ]
  },
  {
   "cell_type": "code",
   "execution_count": 17,
   "metadata": {},
   "outputs": [],
   "source": [
    "# create torch dataset\n",
    "dataset = CSIDataset(inputs)"
   ]
  },
  {
   "cell_type": "code",
   "execution_count": 18,
   "metadata": {},
   "outputs": [],
   "source": [
    "# create torch data loader\n",
    "data_loader = torch.utils.data.DataLoader(\n",
    "    dataset,\n",
    "    batch_size=16,\n",
    "    shuffle=True\n",
    "    )"
   ]
  },
  {
   "cell_type": "code",
   "execution_count": 19,
   "metadata": {},
   "outputs": [
    {
     "data": {
      "text/plain": [
       "device(type='cpu')"
      ]
     },
     "execution_count": 19,
     "metadata": {},
     "output_type": "execute_result"
    }
   ],
   "source": [
    "device = torch.device('cuda') if torch.cuda.is_available() else torch.device('cpu')\n",
    "device"
   ]
  },
  {
   "cell_type": "code",
   "execution_count": 20,
   "metadata": {},
   "outputs": [],
   "source": [
    "model.to(device);"
   ]
  },
  {
   "cell_type": "code",
   "execution_count": 21,
   "metadata": {},
   "outputs": [],
   "source": [
    "epochs = 32\n",
    "optimizer = AdamW(model.parameters(), lr=1e-5)\n",
    "\n",
    "model.train();\n"
   ]
  },
  {
   "cell_type": "code",
   "execution_count": 22,
   "metadata": {},
   "outputs": [
    {
     "name": "stderr",
     "output_type": "stream",
     "text": [
      "Epoch: 0: 100%|██████████| 1/1 [00:06<00:00,  6.47s/it, loss=18.7]\n",
      "Epoch: 1: 100%|██████████| 1/1 [00:06<00:00,  6.32s/it, loss=17.2]\n",
      "Epoch: 2: 100%|██████████| 1/1 [00:05<00:00,  5.73s/it, loss=16]\n",
      "Epoch: 3: 100%|██████████| 1/1 [00:05<00:00,  5.39s/it, loss=14.6]\n",
      "Epoch: 4: 100%|██████████| 1/1 [00:05<00:00,  5.27s/it, loss=13.8]\n",
      "Epoch: 5: 100%|██████████| 1/1 [00:04<00:00,  4.90s/it, loss=13.1]\n",
      "Epoch: 6: 100%|██████████| 1/1 [00:05<00:00,  5.27s/it, loss=12.7]\n",
      "Epoch: 7: 100%|██████████| 1/1 [00:05<00:00,  5.06s/it, loss=12.2]\n",
      "Epoch: 8: 100%|██████████| 1/1 [00:05<00:00,  5.19s/it, loss=11.9]\n",
      "Epoch: 9: 100%|██████████| 1/1 [00:04<00:00,  4.98s/it, loss=11.4]\n",
      "Epoch: 10: 100%|██████████| 1/1 [00:05<00:00,  5.16s/it, loss=11.1]\n",
      "Epoch: 11: 100%|██████████| 1/1 [00:05<00:00,  5.00s/it, loss=10.8]\n",
      "Epoch: 12: 100%|██████████| 1/1 [00:05<00:00,  5.04s/it, loss=10.3]\n",
      "Epoch: 13: 100%|██████████| 1/1 [00:05<00:00,  5.25s/it, loss=10.1]\n",
      "Epoch: 14: 100%|██████████| 1/1 [00:05<00:00,  5.06s/it, loss=9.85]\n",
      "Epoch: 15: 100%|██████████| 1/1 [00:05<00:00,  5.05s/it, loss=9.49]\n",
      "Epoch: 16: 100%|██████████| 1/1 [00:05<00:00,  5.28s/it, loss=9.09]\n",
      "Epoch: 17: 100%|██████████| 1/1 [00:05<00:00,  5.34s/it, loss=8.77]\n",
      "Epoch: 18: 100%|██████████| 1/1 [00:05<00:00,  5.16s/it, loss=8.49]\n",
      "Epoch: 19: 100%|██████████| 1/1 [00:04<00:00,  4.94s/it, loss=8.14]\n",
      "Epoch: 20: 100%|██████████| 1/1 [00:05<00:00,  5.14s/it, loss=7.74]\n",
      "Epoch: 21: 100%|██████████| 1/1 [00:05<00:00,  5.16s/it, loss=7.55]\n",
      "Epoch: 22: 100%|██████████| 1/1 [00:04<00:00,  4.97s/it, loss=7.19]\n",
      "Epoch: 23: 100%|██████████| 1/1 [00:04<00:00,  4.95s/it, loss=6.86]\n",
      "Epoch: 24: 100%|██████████| 1/1 [00:04<00:00,  4.89s/it, loss=6.67]\n",
      "Epoch: 25: 100%|██████████| 1/1 [00:05<00:00,  5.54s/it, loss=6.34]\n",
      "Epoch: 26: 100%|██████████| 1/1 [00:05<00:00,  5.39s/it, loss=6.24]\n",
      "Epoch: 27: 100%|██████████| 1/1 [00:04<00:00,  4.94s/it, loss=6.04]\n",
      "Epoch: 28: 100%|██████████| 1/1 [00:05<00:00,  5.11s/it, loss=5.9]\n",
      "Epoch: 29: 100%|██████████| 1/1 [00:04<00:00,  4.98s/it, loss=5.66]\n",
      "Epoch: 30: 100%|██████████| 1/1 [00:05<00:00,  5.94s/it, loss=5.55]\n",
      "Epoch: 31: 100%|██████████| 1/1 [00:05<00:00,  5.38s/it, loss=5.42]\n"
     ]
    }
   ],
   "source": [
    "\n",
    "# training loop\n",
    "for epoch in range(epochs):\n",
    "    loop = tqdm(data_loader)\n",
    "    for batch in loop:\n",
    "        optimizer.zero_grad()\n",
    "        input_ids = batch['input_ids']\n",
    "        # print(input_ids.shape)\n",
    "        labels = batch['labels']\n",
    "        attention_mask =  batch['attention_mask']\n",
    "        outputs = model(input_ids=input_ids, attention_mask=attention_mask, labels=labels)\n",
    "        loss = outputs.loss\n",
    "        loss.backward()\n",
    "        optimizer.step()\n",
    "\n",
    "        loop.set_description(f'Epoch: {epoch}')\n",
    "        loop.set_postfix(loss=loss.item())\n"
   ]
  },
  {
   "cell_type": "code",
   "execution_count": 23,
   "metadata": {},
   "outputs": [],
   "source": [
    "model.save_pretrained('model/bert-base-uncased-csi-trained');\n"
   ]
  },
  {
   "cell_type": "code",
   "execution_count": 24,
   "metadata": {},
   "outputs": [
    {
     "name": "stdout",
     "output_type": "stream",
     "text": [
      "\t[MASK]: 'see'  | weights: 0.12207724153995514\n",
      "\t[MASK]: 'take'  | weights: 0.0773620456457138\n",
      "\t[MASK]: 'have'  | weights: 0.06554163992404938\n",
      "\t[MASK]: 'find'  | weights: 0.049902647733688354\n",
      "\t[MASK]: 'try'  | weights: 0.047774046659469604\n"
     ]
    }
   ],
   "source": [
    "# model = BertForMaskedLM.from_pretrained(\"bert-base-uncased\");\n",
    "model.from_pretrained('model/bert-base-uncased-csi-trained');\n",
    "\n",
    "\n",
    "def predict_masked_sent(text, top_k=5):\n",
    "    # Tokenize input\n",
    "    text = f\"[CLS] {text} [SEP]\"\n",
    "    tokenized_text = tokenizer.tokenize(text)\n",
    "    masked_index = tokenized_text.index(\"[MASK]\")\n",
    "    indexed_tokens = tokenizer.convert_tokens_to_ids(tokenized_text)\n",
    "    tokens_tensor = torch.tensor([indexed_tokens])\n",
    "    # tokens_tensor = tokens_tensor.to('cuda')    # if you have gpu\n",
    "\n",
    "    # Predict all tokens\n",
    "    with torch.no_grad():\n",
    "        outputs = model(tokens_tensor)\n",
    "        predictions = outputs[0]\n",
    "\n",
    "    probs = torch.nn.functional.softmax(predictions[0, masked_index], dim=-1)\n",
    "    top_k_weights, top_k_indices = torch.topk(probs, top_k, sorted=True)\n",
    "\n",
    "    for i, pred_idx in enumerate(top_k_indices):\n",
    "        predicted_token = tokenizer.convert_ids_to_tokens([pred_idx])[0]\n",
    "        token_weight = top_k_weights[i]\n",
    "        print(\"\\t[MASK]: '%s'\"%predicted_token, \" | weights:\", float(token_weight))\n",
    "\n",
    "        \n",
    "predict_masked_sent(\"You should [MASK] it.\", top_k=5)\n"
   ]
  },
  {
   "cell_type": "code",
   "execution_count": 25,
   "metadata": {},
   "outputs": [
    {
     "name": "stdout",
     "output_type": "stream",
     "text": [
      "I'll be up here.\n",
      "[MASK] be up here.\n",
      "\t[MASK]: 'should'  | weights: 0.6194536685943604\n",
      "\t[MASK]: 'gotta'  | weights: 0.14924505352973938\n",
      "\t[MASK]: 'must'  | weights: 0.09466520696878433\n",
      "\t[MASK]: 'could'  | weights: 0.01983913965523243\n",
      "\t[MASK]: 'please'  | weights: 0.01004601176828146\n",
      "We aren't going to lunch are we?\n",
      "We aren't going to lunch [MASK] we?\n",
      "\t[MASK]: 'are'  | weights: 0.9971518516540527\n",
      "\t[MASK]: 'aren'  | weights: 0.0013718613190576434\n",
      "\t[MASK]: 'were'  | weights: 0.0012275198241695762\n",
      "\t[MASK]: 'have'  | weights: 0.0001236569951288402\n",
      "\t[MASK]: 'is'  | weights: 4.580666427500546e-05\n",
      "Belladonna would help explain it.\n",
      "[MASK] would help explain it.\n",
      "\t[MASK]: 'that'  | weights: 0.29083457589149475\n",
      "\t[MASK]: 'it'  | weights: 0.18923956155776978\n",
      "\t[MASK]: 'nothing'  | weights: 0.03527429699897766\n",
      "\t[MASK]: 'this'  | weights: 0.023704886436462402\n",
      "\t[MASK]: 'he'  | weights: 0.023436715826392174\n",
      "Thanks. You can get dressed now.\n",
      "Thanks. You can [MASK] dressed now.\n",
      "\t[MASK]: 'get'  | weights: 0.939605712890625\n",
      "\t[MASK]: 'be'  | weights: 0.04335996136069298\n",
      "\t[MASK]: 'stay'  | weights: 0.011052239686250687\n",
      "\t[MASK]: 'become'  | weights: 0.0004993337788619101\n",
      "\t[MASK]: 'go'  | weights: 0.00046036639832891524\n",
      "Same bruise pattern.\n",
      "Same bruise [MASK]\n",
      "\t[MASK]: '.'  | weights: 0.9655857086181641\n",
      "\t[MASK]: '?'  | weights: 0.013934101909399033\n",
      "\t[MASK]: ';'  | weights: 0.009051946923136711\n",
      "\t[MASK]: '!'  | weights: 0.004384944681078196\n",
      "\t[MASK]: '...'  | weights: 0.0032170736230909824\n"
     ]
    }
   ],
   "source": [
    "import random\n",
    "for sent in random.sample(data, 5):\n",
    "    print(sent)\n",
    "    words = sent.split(' ')\n",
    "    mask_int = np.random.randint(0,len(words),1)\n",
    "    words[mask_int[0]] = '[MASK]'\n",
    "    masked_sent = ' '.join(words)\n",
    "    print(masked_sent)\n",
    "    predict_masked_sent(masked_sent, top_k=5)\n"
   ]
  },
  {
   "cell_type": "markdown",
   "metadata": {},
   "source": [
    "## Getting the sentence embedding"
   ]
  },
  {
   "cell_type": "code",
   "execution_count": 40,
   "metadata": {},
   "outputs": [
    {
     "name": "stdout",
     "output_type": "stream",
     "text": [
      "Sentence embeddings:\n",
      "tensor([[-0.0021, -0.0029, -0.0034,  ..., -0.0028, -0.0051, -0.0058],\n",
      "        [ 0.0016,  0.0005, -0.0003,  ..., -0.0010, -0.0011, -0.0059],\n",
      "        [-0.0026, -0.0040, -0.0042,  ..., -0.0047, -0.0042, -0.0050],\n",
      "        [-0.0044, -0.0052, -0.0054,  ..., -0.0049, -0.0042, -0.0070],\n",
      "        [-0.0036, -0.0045, -0.0045,  ..., -0.0037, -0.0040, -0.0052]])\n"
     ]
    }
   ],
   "source": [
    "import torch\n",
    "# import torch.nn.functional as F\n",
    "from transformers import BertTokenizer\n",
    "\n",
    "tokenizer = BertTokenizer.from_pretrained(\"bert-base-uncased\")\n",
    "model.from_pretrained('model/bert-base-uncased-csi-trained');\n",
    "\n",
    "#Mean Pooling - Take attention mask into account for correct averaging\n",
    "def mean_pooling(model_output, attention_mask):\n",
    "    token_embeddings = model_output[0] #First element of model_output contains all token embeddings\n",
    "    input_mask_expanded = attention_mask.unsqueeze(-1).expand(token_embeddings.size()).float()\n",
    "    return torch.sum(token_embeddings * input_mask_expanded, 1) / torch.clamp(input_mask_expanded.sum(1), min=1e-9)\n",
    "\n",
    "def sentence_embedder(sentences):\n",
    "    # Tokenize sentences\n",
    "    encoded_input = tokenizer(sentences, padding=True, truncation=True, return_tensors='pt')\n",
    "\n",
    "    # Compute token embeddings\n",
    "    with torch.no_grad():\n",
    "        model_output = model(**encoded_input)\n",
    "\n",
    "    # Perform pooling\n",
    "    sentence_embeddings = mean_pooling(model_output, encoded_input['attention_mask'])\n",
    "\n",
    "    # Normalize embeddings\n",
    "    sentence_embeddings = F.normalize(sentence_embeddings, p=2, dim=1)\n",
    "\n",
    "    return sentence_embeddings\n",
    "\n",
    "\n",
    "sentences = data[:5]\n",
    "sentence_embeddings = sentence_embedder(sentences)\n",
    "print(\"Sentence embeddings:\")\n",
    "print(sentence_embeddings)\n",
    "\n",
    "\n"
   ]
  },
  {
   "cell_type": "code",
   "execution_count": 41,
   "metadata": {},
   "outputs": [
    {
     "data": {
      "text/plain": [
       "torch.Size([30522])"
      ]
     },
     "execution_count": 41,
     "metadata": {},
     "output_type": "execute_result"
    }
   ],
   "source": [
    "sentence_embeddings[0].shape"
   ]
  },
  {
   "cell_type": "code",
   "execution_count": null,
   "metadata": {},
   "outputs": [],
   "source": []
  }
 ],
 "metadata": {
  "interpreter": {
   "hash": "c0a2902978563c8bcc7f82062c2ad45366e70aba911d3cca21d6ee8298cd12a7"
  },
  "kernelspec": {
   "display_name": "Python 3.8.8 ('venv': venv)",
   "language": "python",
   "name": "python3"
  },
  "language_info": {
   "codemirror_mode": {
    "name": "ipython",
    "version": 3
   },
   "file_extension": ".py",
   "mimetype": "text/x-python",
   "name": "python",
   "nbconvert_exporter": "python",
   "pygments_lexer": "ipython3",
   "version": "3.8.8"
  },
  "orig_nbformat": 4
 },
 "nbformat": 4,
 "nbformat_minor": 2
}
