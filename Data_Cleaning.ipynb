{
 "cells": [
  {
   "cell_type": "markdown",
   "metadata": {},
   "source": [
    "# General Data Cleaning Activities\n"
   ]
  },
  {
   "cell_type": "markdown",
   "metadata": {},
   "source": [
    "## Cleaning CSI ranking data from imdb"
   ]
  },
  {
   "cell_type": "code",
   "execution_count": 1,
   "metadata": {},
   "outputs": [],
   "source": [
    "import pandas as pd"
   ]
  },
  {
   "cell_type": "code",
   "execution_count": 4,
   "metadata": {},
   "outputs": [
    {
     "name": "stdout",
     "output_type": "stream",
     "text": [
      "                    0                                                  1\n",
      "0         For Warrick  1. CSI: Crime Scene Investigation (2000–2015) ...\n",
      "1           One to Go  2. CSI: Crime Scene Investigation (2000–2015) ...\n",
      "2         Living Doll  3. CSI: Crime Scene Investigation (2000–2015) ...\n",
      "3  Girls Gone Gadgets  4. CSI: Crime Scene Investigation (2000–2015) ...\n",
      "4           Gum Drops  5. CSI: Crime Scene Investigation (2000–2015) ...\n",
      "1. CSI: Crime Scene Investigation (2000–2015) Episode: For Warrick (2008) TV-14 | 45 min | Crime, Drama, Mystery 9.0 Rate this CSIs past and present come together at the news of Warrick's death. But will Warrick's real killer successfully frame another police officer for his murder? Director: Richard J. Lewis | Stars: William Petersen , Marg Helgenberger , Gary Dourdan , George Eads Votes: 1,083\n"
     ]
    }
   ],
   "source": [
    "ranking_file =  \"metadata\\CSI_imdb_ranking_synopsis.csv\"\n",
    "rankings = pd.read_csv(ranking_file, header=None)\n",
    "print(rankings.head())\n",
    "\n",
    "test_cell = rankings[1][0]\n",
    "print(test_cell)"
   ]
  },
  {
   "cell_type": "code",
   "execution_count": 10,
   "metadata": {},
   "outputs": [],
   "source": [
    "def cell_splitter(test_cell):\n",
    "    test_cell = test_cell.replace('PG','14')\n",
    "    test_cell = test_cell.replace('MA','14')\n",
    "    rank, *r = test_cell.split('. CSI: Crime Scene Investigation (2000–2015) ')\n",
    "    season, *r = r[0].split('Episode: ')\n",
    "    name, *r = r[0].split(' TV-14 | ')\n",
    "    name = name[:-7]\n",
    "    r = r[0].split('Crime, Drama, Mystery ')[1:]\n",
    "    rating, *r = r[0].split(' Rate this ')\n",
    "    # synopsis, *r = r[0].split(' Director: ')\n",
    "    # director, *r = r[0].split(' | Stars: ')\n",
    "    # stars, *r = r[0].split(' Votes: ')\n",
    "    # votes = r[0]\n",
    "    # name =  test_cell.split()\n",
    "    # print(rank, name, rating, sep='\\n')\n",
    "    return [rank, name, rating]"
   ]
  },
  {
   "cell_type": "code",
   "execution_count": 11,
   "metadata": {},
   "outputs": [
    {
     "data": {
      "text/plain": [
       "['1', 'For Warrick', '9.0']"
      ]
     },
     "execution_count": 11,
     "metadata": {},
     "output_type": "execute_result"
    }
   ],
   "source": [
    "cell_splitter(test_cell)"
   ]
  },
  {
   "cell_type": "code",
   "execution_count": 12,
   "metadata": {},
   "outputs": [
    {
     "name": "stdout",
     "output_type": "stream",
     "text": [
      "  rank_order            epsisode rank\n",
      "0          1         For Warrick  9.0\n",
      "1          2           One to Go  8.9\n",
      "2          3         Living Doll  8.9\n",
      "3          4  Girls Gone Gadgets  8.8\n",
      "4          5           Gum Drops  8.8\n"
     ]
    }
   ],
   "source": [
    "new_rankings = pd.DataFrame(rankings[1].apply(cell_splitter).to_list(), columns=['rank_order', 'epsisode', 'rank'])\n",
    "print(new_rankings.head())\n",
    "\n",
    "new_rankings.to_csv(\"metadata\\CSI_imdb_ranking.csv\")"
   ]
  },
  {
   "cell_type": "markdown",
   "metadata": {},
   "source": [
    "## Cleaning CRT files"
   ]
  },
  {
   "cell_type": "code",
   "execution_count": 38,
   "metadata": {},
   "outputs": [],
   "source": [
    "import pysrt\n",
    "import re"
   ]
  },
  {
   "cell_type": "code",
   "execution_count": 69,
   "metadata": {},
   "outputs": [],
   "source": [
    "def sub_stripper(f_name):\n",
    "    \"\"\"processing for srt files from CSI\n",
    "       removes music and combines captions that span a sentacne\n",
    "\n",
    "    Args:\n",
    "        f_name (str): *.srt file to process\n",
    "\n",
    "    Returns:\n",
    "        pd.Dataframe : datframe with start, end, and text columns\n",
    "    \"\"\"\n",
    "    subs = pysrt.open(f_name)\n",
    "    continued = False\n",
    "    new_subs = []\n",
    "    for s in subs:\n",
    "        \n",
    "        text = s.text.replace('<i>', ' ').replace('</i>','').replace('\\n', ' ').replace('\\xa0',' ').replace('\"','')\n",
    "        \n",
    "        # pattern = '[A-Z][a-z]*:'\n",
    "        # text = re.sub(pattern, '', text)\n",
    "\n",
    "        text = text.split(':')\n",
    "        text = text[0] if len(text)==1 else text[1]\n",
    "        text = text.lstrip()\n",
    "\n",
    "        if not text:\n",
    "            continue\n",
    "\n",
    "        if text[0] == '♪' or (text[0] == '(' and text[-1] == ')'):\n",
    "            continue\n",
    "\n",
    "        if not continued:\n",
    "            # print(s.start)\n",
    "            start = s.start\n",
    "            sub_string = ''\n",
    "\n",
    "        if text[-1] in ['.','?',\"!\", ')']:\n",
    "            sub_string += text\n",
    "            sub_string = sub_string.replace('  ', ' ')\n",
    "            # print(sub_string, end = '\\n')\n",
    "            # print(s.end)\n",
    "            continued = False\n",
    "            new_subs.append([start.to_time().replace(microsecond=0), s.end.to_time().replace(microsecond=0), sub_string])\n",
    "        else:\n",
    "            continued = True\n",
    "            sub_string += text + ' '\n",
    "            # print(text, end=' ')\n",
    "    \n",
    "    return pd.DataFrame(new_subs, columns = ['start', 'end', 'text'])\n"
   ]
  },
  {
   "cell_type": "code",
   "execution_count": 67,
   "metadata": {},
   "outputs": [],
   "source": [
    "\n",
    "# get path to all srt files\n",
    "from glob import glob\n",
    "srt_files = glob('CSI - Crime Scene Investigation/**/*.srt', recursive=True)\n",
    "test_file = srt_files[0]"
   ]
  },
  {
   "cell_type": "code",
   "execution_count": 70,
   "metadata": {},
   "outputs": [
    {
     "data": {
      "text/plain": [
       "start    00:09:31\n",
       "end      00:09:33\n",
       "text     Ma'am...\n",
       "Name: 135, dtype: object"
      ]
     },
     "execution_count": 70,
     "metadata": {},
     "output_type": "execute_result"
    }
   ],
   "source": [
    "sub_stripper(test_file).loc[135]"
   ]
  },
  {
   "cell_type": "code",
   "execution_count": 72,
   "metadata": {},
   "outputs": [],
   "source": [
    "# process all the files\n",
    "path_cleaned_subs = 'cleaned_subs\\\\'\n",
    "for sub_file in srt_files:\n",
    "    episode = sub_file.split(' - ')[-1].split(' ')[0]\n",
    "    df = sub_stripper(sub_file)\n",
    "    df.to_csv(path_cleaned_subs + episode, sep='\\t')"
   ]
  },
  {
   "cell_type": "markdown",
   "metadata": {},
   "source": [
    "# Joining cleaned subs and Labels from CSI"
   ]
  },
  {
   "cell_type": "code",
   "execution_count": null,
   "metadata": {},
   "outputs": [],
   "source": []
  }
 ],
 "metadata": {
  "interpreter": {
   "hash": "c0a2902978563c8bcc7f82062c2ad45366e70aba911d3cca21d6ee8298cd12a7"
  },
  "kernelspec": {
   "display_name": "Python 3.8.8 ('venv': venv)",
   "language": "python",
   "name": "python3"
  },
  "language_info": {
   "codemirror_mode": {
    "name": "ipython",
    "version": 3
   },
   "file_extension": ".py",
   "mimetype": "text/x-python",
   "name": "python",
   "nbconvert_exporter": "python",
   "pygments_lexer": "ipython3",
   "version": "3.8.8"
  },
  "orig_nbformat": 4
 },
 "nbformat": 4,
 "nbformat_minor": 2
}
