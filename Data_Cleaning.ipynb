{
 "cells": [
  {
   "cell_type": "markdown",
   "metadata": {},
   "source": [
    "# General Data Cleaning Activities\n"
   ]
  },
  {
   "cell_type": "markdown",
   "metadata": {},
   "source": [
    "## Cleaning CSI ranking data from imdb"
   ]
  },
  {
   "cell_type": "code",
   "execution_count": 1,
   "metadata": {},
   "outputs": [],
   "source": [
    "import pandas as pd"
   ]
  },
  {
   "cell_type": "code",
   "execution_count": 4,
   "metadata": {},
   "outputs": [
    {
     "name": "stdout",
     "output_type": "stream",
     "text": [
      "                    0                                                  1\n",
      "0         For Warrick  1. CSI: Crime Scene Investigation (2000–2015) ...\n",
      "1           One to Go  2. CSI: Crime Scene Investigation (2000–2015) ...\n",
      "2         Living Doll  3. CSI: Crime Scene Investigation (2000–2015) ...\n",
      "3  Girls Gone Gadgets  4. CSI: Crime Scene Investigation (2000–2015) ...\n",
      "4           Gum Drops  5. CSI: Crime Scene Investigation (2000–2015) ...\n",
      "1. CSI: Crime Scene Investigation (2000–2015) Episode: For Warrick (2008) TV-14 | 45 min | Crime, Drama, Mystery 9.0 Rate this CSIs past and present come together at the news of Warrick's death. But will Warrick's real killer successfully frame another police officer for his murder? Director: Richard J. Lewis | Stars: William Petersen , Marg Helgenberger , Gary Dourdan , George Eads Votes: 1,083\n"
     ]
    }
   ],
   "source": [
    "ranking_file =  \"metadata\\CSI_imdb_ranking_synopsis.csv\"\n",
    "rankings = pd.read_csv(ranking_file, header=None)\n",
    "print(rankings.head())\n",
    "\n",
    "test_cell = rankings[1][0]\n",
    "print(test_cell)"
   ]
  },
  {
   "cell_type": "code",
   "execution_count": 10,
   "metadata": {},
   "outputs": [],
   "source": [
    "def cell_splitter(test_cell):\n",
    "    test_cell = test_cell.replace('PG','14')\n",
    "    test_cell = test_cell.replace('MA','14')\n",
    "    rank, *r = test_cell.split('. CSI: Crime Scene Investigation (2000–2015) ')\n",
    "    season, *r = r[0].split('Episode: ')\n",
    "    name, *r = r[0].split(' TV-14 | ')\n",
    "    name = name[:-7]\n",
    "    r = r[0].split('Crime, Drama, Mystery ')[1:]\n",
    "    rating, *r = r[0].split(' Rate this ')\n",
    "    # synopsis, *r = r[0].split(' Director: ')\n",
    "    # director, *r = r[0].split(' | Stars: ')\n",
    "    # stars, *r = r[0].split(' Votes: ')\n",
    "    # votes = r[0]\n",
    "    # name =  test_cell.split()\n",
    "    # print(rank, name, rating, sep='\\n')\n",
    "    return [rank, name, rating]"
   ]
  },
  {
   "cell_type": "code",
   "execution_count": 11,
   "metadata": {},
   "outputs": [
    {
     "data": {
      "text/plain": [
       "['1', 'For Warrick', '9.0']"
      ]
     },
     "execution_count": 11,
     "metadata": {},
     "output_type": "execute_result"
    }
   ],
   "source": [
    "cell_splitter(test_cell)"
   ]
  },
  {
   "cell_type": "code",
   "execution_count": 12,
   "metadata": {},
   "outputs": [
    {
     "name": "stdout",
     "output_type": "stream",
     "text": [
      "  rank_order            epsisode rank\n",
      "0          1         For Warrick  9.0\n",
      "1          2           One to Go  8.9\n",
      "2          3         Living Doll  8.9\n",
      "3          4  Girls Gone Gadgets  8.8\n",
      "4          5           Gum Drops  8.8\n"
     ]
    }
   ],
   "source": [
    "new_rankings = pd.DataFrame(rankings[1].apply(cell_splitter).to_list(), columns=['rank_order', 'epsisode', 'rank'])\n",
    "print(new_rankings.head())\n",
    "\n",
    "new_rankings.to_csv(\"metadata\\CSI_imdb_ranking.csv\")"
   ]
  },
  {
   "cell_type": "markdown",
   "metadata": {},
   "source": [
    "## Cleaning CRT files"
   ]
  },
  {
   "cell_type": "code",
   "execution_count": 87,
   "metadata": {},
   "outputs": [],
   "source": [
    "import pysrt"
   ]
  },
  {
   "cell_type": "code",
   "execution_count": 89,
   "metadata": {},
   "outputs": [
    {
     "data": {
      "text/html": [
       "<div>\n",
       "<style scoped>\n",
       "    .dataframe tbody tr th:only-of-type {\n",
       "        vertical-align: middle;\n",
       "    }\n",
       "\n",
       "    .dataframe tbody tr th {\n",
       "        vertical-align: top;\n",
       "    }\n",
       "\n",
       "    .dataframe thead th {\n",
       "        text-align: right;\n",
       "    }\n",
       "</style>\n",
       "<table border=\"1\" class=\"dataframe\">\n",
       "  <thead>\n",
       "    <tr style=\"text-align: right;\">\n",
       "      <th></th>\n",
       "      <th>start</th>\n",
       "      <th>end</th>\n",
       "      <th>text</th>\n",
       "    </tr>\n",
       "  </thead>\n",
       "  <tbody>\n",
       "    <tr>\n",
       "      <th>0</th>\n",
       "      <td>00:00:21</td>\n",
       "      <td>00:00:22</td>\n",
       "      <td>My name is Royce Harmon.</td>\n",
       "    </tr>\n",
       "    <tr>\n",
       "      <th>1</th>\n",
       "      <td>00:00:22</td>\n",
       "      <td>00:00:27</td>\n",
       "      <td>I reside at 7642 Carpenter Street, Las Vegas, ...</td>\n",
       "    </tr>\n",
       "    <tr>\n",
       "      <th>2</th>\n",
       "      <td>00:00:27</td>\n",
       "      <td>00:00:30</td>\n",
       "      <td>I am 41 years of age...</td>\n",
       "    </tr>\n",
       "    <tr>\n",
       "      <th>3</th>\n",
       "      <td>00:00:30</td>\n",
       "      <td>00:00:33</td>\n",
       "      <td>...and I'm going to kill myself.</td>\n",
       "    </tr>\n",
       "    <tr>\n",
       "      <th>4</th>\n",
       "      <td>00:00:35</td>\n",
       "      <td>00:00:40</td>\n",
       "      <td>I'd like to say \"I love you\" to my mother Paig...</td>\n",
       "    </tr>\n",
       "    <tr>\n",
       "      <th>...</th>\n",
       "      <td>...</td>\n",
       "      <td>...</td>\n",
       "      <td>...</td>\n",
       "    </tr>\n",
       "    <tr>\n",
       "      <th>746</th>\n",
       "      <td>00:44:19</td>\n",
       "      <td>00:44:23</td>\n",
       "      <td>Apparently the suspect returned to the scene.</td>\n",
       "    </tr>\n",
       "    <tr>\n",
       "      <th>747</th>\n",
       "      <td>00:44:25</td>\n",
       "      <td>00:44:27</td>\n",
       "      <td>They don't think she's gonna make it.</td>\n",
       "    </tr>\n",
       "    <tr>\n",
       "      <th>748</th>\n",
       "      <td>00:44:27</td>\n",
       "      <td>00:44:32</td>\n",
       "      <td>Brown, I'm putting you on administrative leave...</td>\n",
       "    </tr>\n",
       "    <tr>\n",
       "      <th>749</th>\n",
       "      <td>00:44:33</td>\n",
       "      <td>00:44:34</td>\n",
       "      <td>So wash your faces; change your socks.</td>\n",
       "    </tr>\n",
       "    <tr>\n",
       "      <th>750</th>\n",
       "      <td>00:44:34</td>\n",
       "      <td>00:44:35</td>\n",
       "      <td>You have a long day ahead of you.</td>\n",
       "    </tr>\n",
       "  </tbody>\n",
       "</table>\n",
       "<p>751 rows × 3 columns</p>\n",
       "</div>"
      ],
      "text/plain": [
       "        start       end                                               text\n",
       "0    00:00:21  00:00:22                           My name is Royce Harmon.\n",
       "1    00:00:22  00:00:27  I reside at 7642 Carpenter Street, Las Vegas, ...\n",
       "2    00:00:27  00:00:30                            I am 41 years of age...\n",
       "3    00:00:30  00:00:33                   ...and I'm going to kill myself.\n",
       "4    00:00:35  00:00:40  I'd like to say \"I love you\" to my mother Paig...\n",
       "..        ...       ...                                                ...\n",
       "746  00:44:19  00:44:23      Apparently the suspect returned to the scene.\n",
       "747  00:44:25  00:44:27              They don't think she's gonna make it.\n",
       "748  00:44:27  00:44:32  Brown, I'm putting you on administrative leave...\n",
       "749  00:44:33  00:44:34             So wash your faces; change your socks.\n",
       "750  00:44:34  00:44:35                  You have a long day ahead of you.\n",
       "\n",
       "[751 rows x 3 columns]"
      ]
     },
     "execution_count": 89,
     "metadata": {},
     "output_type": "execute_result"
    }
   ],
   "source": [
    "def sub_stripper(f_name):\n",
    "    \"\"\"processing for srt files from CSI\n",
    "       removes music and combines captions that span a sentacne\n",
    "\n",
    "    Args:\n",
    "        f_name (str): *.srt file to process\n",
    "\n",
    "    Returns:\n",
    "        pd.Dataframe : datframe with start, end, and text columns\n",
    "    \"\"\"\n",
    "    subs = pysrt.open(f_name)\n",
    "    continued = False\n",
    "    new_subs = []\n",
    "    for s in subs:\n",
    "        text = s.text.replace('<i>', '').replace('</i>','').replace('\\n', ' ').replace('\\xa0','')\n",
    "\n",
    "        if text[0] == '♪':\n",
    "            continue\n",
    "\n",
    "        if not continued:\n",
    "            # print(s.start)\n",
    "            start = s.start\n",
    "            sub_string = ''\n",
    "\n",
    "        if text[-1] in ['.','?',\"!\", ')']:\n",
    "            sub_string += text\n",
    "            # print(sub_string, end = '\\n')\n",
    "            # print(s.end)\n",
    "            continued = False\n",
    "            new_subs.append([start.to_time().replace(microsecond=0), s.end.to_time().replace(microsecond=0), sub_string])\n",
    "        else:\n",
    "            continued = True\n",
    "            sub_string += text + ' '\n",
    "            # print(text, end=' ')\n",
    "    \n",
    "    return pd.DataFrame(new_subs, columns = ['start', 'end', 'text'])\n",
    "\n",
    "sub_stripper(test_files)"
   ]
  },
  {
   "cell_type": "code",
   "execution_count": 97,
   "metadata": {},
   "outputs": [],
   "source": [
    "\n",
    "# get path to all srt files\n",
    "from glob import glob\n",
    "srt_files = glob('CSI - Crime Scene Investigation/**/*.srt', recursive=True)"
   ]
  },
  {
   "cell_type": "code",
   "execution_count": 108,
   "metadata": {},
   "outputs": [],
   "source": [
    "# process all the files\n",
    "path_cleaned_subs = 'cleaned_subs\\\\'\n",
    "for sub_file in srt_files:\n",
    "    episode = sub_file.split(' - ')[-1].split(' ')[0]\n",
    "    df = sub_stripper(sub_file)\n",
    "    df.to_csv(path_cleaned_subs + episode)"
   ]
  },
  {
   "cell_type": "code",
   "execution_count": null,
   "metadata": {},
   "outputs": [],
   "source": []
  }
 ],
 "metadata": {
  "interpreter": {
   "hash": "c0a2902978563c8bcc7f82062c2ad45366e70aba911d3cca21d6ee8298cd12a7"
  },
  "kernelspec": {
   "display_name": "Python 3.8.8 ('venv': venv)",
   "language": "python",
   "name": "python3"
  },
  "language_info": {
   "codemirror_mode": {
    "name": "ipython",
    "version": 3
   },
   "file_extension": ".py",
   "mimetype": "text/x-python",
   "name": "python",
   "nbconvert_exporter": "python",
   "pygments_lexer": "ipython3",
   "version": "3.8.8"
  },
  "orig_nbformat": 4
 },
 "nbformat": 4,
 "nbformat_minor": 2
}
