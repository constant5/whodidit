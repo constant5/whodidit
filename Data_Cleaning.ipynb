{
 "cells": [
  {
   "cell_type": "markdown",
   "metadata": {},
   "source": [
    "# General Data Cleaning Activities\n"
   ]
  },
  {
   "cell_type": "markdown",
   "metadata": {},
   "source": [
    "## Cleaning CSI ranking data from imdb"
   ]
  },
  {
   "cell_type": "code",
   "execution_count": 1,
   "metadata": {},
   "outputs": [],
   "source": [
    "import pandas as pd"
   ]
  },
  {
   "cell_type": "code",
   "execution_count": 4,
   "metadata": {},
   "outputs": [
    {
     "name": "stdout",
     "output_type": "stream",
     "text": [
      "                    0                                                  1\n",
      "0         For Warrick  1. CSI: Crime Scene Investigation (2000–2015) ...\n",
      "1           One to Go  2. CSI: Crime Scene Investigation (2000–2015) ...\n",
      "2         Living Doll  3. CSI: Crime Scene Investigation (2000–2015) ...\n",
      "3  Girls Gone Gadgets  4. CSI: Crime Scene Investigation (2000–2015) ...\n",
      "4           Gum Drops  5. CSI: Crime Scene Investigation (2000–2015) ...\n",
      "1. CSI: Crime Scene Investigation (2000–2015) Episode: For Warrick (2008) TV-14 | 45 min | Crime, Drama, Mystery 9.0 Rate this CSIs past and present come together at the news of Warrick's death. But will Warrick's real killer successfully frame another police officer for his murder? Director: Richard J. Lewis | Stars: William Petersen , Marg Helgenberger , Gary Dourdan , George Eads Votes: 1,083\n"
     ]
    }
   ],
   "source": [
    "ranking_file =  \"metadata\\CSI_imdb_ranking_synopsis.csv\"\n",
    "rankings = pd.read_csv(ranking_file, header=None)\n",
    "print(rankings.head())\n",
    "\n",
    "test_cell = rankings[1][0]\n",
    "print(test_cell)"
   ]
  },
  {
   "cell_type": "code",
   "execution_count": 10,
   "metadata": {},
   "outputs": [],
   "source": [
    "def cell_splitter(test_cell):\n",
    "    test_cell = test_cell.replace('PG','14')\n",
    "    test_cell = test_cell.replace('MA','14')\n",
    "    rank, *r = test_cell.split('. CSI: Crime Scene Investigation (2000–2015) ')\n",
    "    season, *r = r[0].split('Episode: ')\n",
    "    name, *r = r[0].split(' TV-14 | ')\n",
    "    name = name[:-7]\n",
    "    r = r[0].split('Crime, Drama, Mystery ')[1:]\n",
    "    rating, *r = r[0].split(' Rate this ')\n",
    "    # synopsis, *r = r[0].split(' Director: ')\n",
    "    # director, *r = r[0].split(' | Stars: ')\n",
    "    # stars, *r = r[0].split(' Votes: ')\n",
    "    # votes = r[0]\n",
    "    # name =  test_cell.split()\n",
    "    # print(rank, name, rating, sep='\\n')\n",
    "    return [rank, name, rating]"
   ]
  },
  {
   "cell_type": "code",
   "execution_count": 11,
   "metadata": {},
   "outputs": [
    {
     "data": {
      "text/plain": [
       "['1', 'For Warrick', '9.0']"
      ]
     },
     "execution_count": 11,
     "metadata": {},
     "output_type": "execute_result"
    }
   ],
   "source": [
    "cell_splitter(test_cell)"
   ]
  },
  {
   "cell_type": "code",
   "execution_count": 12,
   "metadata": {},
   "outputs": [
    {
     "name": "stdout",
     "output_type": "stream",
     "text": [
      "  rank_order            epsisode rank\n",
      "0          1         For Warrick  9.0\n",
      "1          2           One to Go  8.9\n",
      "2          3         Living Doll  8.9\n",
      "3          4  Girls Gone Gadgets  8.8\n",
      "4          5           Gum Drops  8.8\n"
     ]
    }
   ],
   "source": [
    "new_rankings = pd.DataFrame(rankings[1].apply(cell_splitter).to_list(), columns=['rank_order', 'epsisode', 'rank'])\n",
    "print(new_rankings.head())\n",
    "\n",
    "new_rankings.to_csv(\"metadata\\CSI_imdb_ranking.csv\")"
   ]
  },
  {
   "cell_type": "markdown",
   "metadata": {},
   "source": [
    "## Cleaning CRT files"
   ]
  },
  {
   "cell_type": "code",
   "execution_count": 38,
   "metadata": {},
   "outputs": [],
   "source": [
    "import pysrt\n",
    "import re"
   ]
  },
  {
   "cell_type": "code",
   "execution_count": 69,
   "metadata": {},
   "outputs": [],
   "source": [
    "def sub_stripper(f_name):\n",
    "    \"\"\"processing for srt files from CSI\n",
    "       removes music and combines captions that span a sentacne\n",
    "\n",
    "    Args:\n",
    "        f_name (str): *.srt file to process\n",
    "\n",
    "    Returns:\n",
    "        pd.Dataframe : datframe with start, end, and text columns\n",
    "    \"\"\"\n",
    "    subs = pysrt.open(f_name)\n",
    "    continued = False\n",
    "    new_subs = []\n",
    "    for s in subs:\n",
    "        \n",
    "        text = s.text.replace('<i>', ' ').replace('</i>','').replace('\\n', ' ').replace('\\xa0',' ').replace('\"','')\n",
    "        \n",
    "        # pattern = '[A-Z][a-z]*:'\n",
    "        # text = re.sub(pattern, '', text)\n",
    "\n",
    "        text = text.split(':')\n",
    "        text = text[0] if len(text)==1 else text[1]\n",
    "        text = text.lstrip()\n",
    "\n",
    "        if not text:\n",
    "            continue\n",
    "\n",
    "        if text[0] == '♪' or (text[0] == '(' and text[-1] == ')'):\n",
    "            continue\n",
    "\n",
    "        if not continued:\n",
    "            # print(s.start)\n",
    "            start = s.start\n",
    "            sub_string = ''\n",
    "\n",
    "        if text[-1] in ['.','?',\"!\", ')']:\n",
    "            sub_string += text\n",
    "            sub_string = sub_string.replace('  ', ' ')\n",
    "            # print(sub_string, end = '\\n')\n",
    "            # print(s.end)\n",
    "            continued = False\n",
    "            new_subs.append([start.to_time().replace(microsecond=0), s.end.to_time().replace(microsecond=0), sub_string])\n",
    "        else:\n",
    "            continued = True\n",
    "            sub_string += text + ' '\n",
    "            # print(text, end=' ')\n",
    "    \n",
    "    return pd.DataFrame(new_subs, columns = ['start', 'end', 'text'])\n"
   ]
  },
  {
   "cell_type": "code",
   "execution_count": 67,
   "metadata": {},
   "outputs": [],
   "source": [
    "\n",
    "# get path to all srt files\n",
    "from glob import glob\n",
    "srt_files = glob('CSI - Crime Scene Investigation/**/*.srt', recursive=True)\n",
    "test_file = srt_files[0]"
   ]
  },
  {
   "cell_type": "code",
   "execution_count": 70,
   "metadata": {},
   "outputs": [
    {
     "data": {
      "text/plain": [
       "start    00:09:31\n",
       "end      00:09:33\n",
       "text     Ma'am...\n",
       "Name: 135, dtype: object"
      ]
     },
     "execution_count": 70,
     "metadata": {},
     "output_type": "execute_result"
    }
   ],
   "source": [
    "sub_stripper(test_file).loc[135]"
   ]
  },
  {
   "cell_type": "code",
   "execution_count": 72,
   "metadata": {},
   "outputs": [],
   "source": [
    "# process all the files\n",
    "path_cleaned_subs = 'cleaned_subs\\\\'\n",
    "for sub_file in srt_files:\n",
    "    episode = sub_file.split(' - ')[-1].split(' ')[0]\n",
    "    df = sub_stripper(sub_file)\n",
    "    df.to_csv(path_cleaned_subs + episode, sep='\\t')"
   ]
  },
  {
   "cell_type": "markdown",
   "metadata": {},
   "source": [
    "# Joining cleaned subs and Labels from CSI"
   ]
  },
  {
   "cell_type": "code",
   "execution_count": 22,
<<<<<<< HEAD
   "metadata": {
    "collapsed": false,
    "pycharm": {
     "name": "#%%\n"
    }
   },
=======
>>>>>>> 1993aad06c7d2ce60666f1af439636fe1ac65adf
   "outputs": [],
   "source": [
    "# Split timestamp into hour/minute/seconds and cast to ints, then convert to seconds\n",
    "def timestamp_converter(timestamp):\n",
    "    timestamp = timestamp[:8]\n",
    "    timestamps = (int(timestamp[:2]), int(timestamp[3:5]), int(timestamp[6:]))\n",
    "    return (timestamps[0]*60*60) + (timestamps[1]*60) + timestamps[2]"
<<<<<<< HEAD
   ]
=======
   ],
   "metadata": {
    "collapsed": false,
    "pycharm": {
     "name": "#%%\n"
    }
   }
>>>>>>> 1993aad06c7d2ce60666f1af439636fe1ac65adf
  },
  {
   "cell_type": "code",
   "execution_count": 56,
   "metadata": {},
   "outputs": [],
   "source": [
    "def label_merger(f_name):\n",
    "    sub = \"cleaned_subs/\" + f_name\n",
    "    label = \"perpetrator_identification/\" + f_name\n",
    "\n",
    "    sub_df = pd.read_csv(sub, sep=\"\\t\", index_col=0)\n",
    "    label_df = pd.read_csv(label, sep=\"\\t\", index_col=0)\n",
    "\n",
    "    # Extracts the median timestamp column for every row that was labelled as perpetrator\n",
    "    label_rows = label_df[label_df['killer_gold'].str.contains('Y')]['medion_time'].apply(timestamp_converter)\n",
    "    # Extracts the start/end timestamps and converts them to seconds\n",
    "    sub_start = list(map(timestamp_converter, sub_df.start.tolist()))\n",
    "    sub_end = list(map(timestamp_converter, sub_df.end.tolist()))\n",
    "    sub_labels = []\n",
    "\n",
    "    # Loops through timestamps from subtitle set and checks if any of the labelled timestamps are between\n",
    "    # the start and end times of subtitles, then labels that row as Y or N accordingly\n",
    "    for i, start in enumerate(sub_start):\n",
    "        if any(label_rows.between(start, sub_end[i])):\n",
    "            sub_labels.append('Y')\n",
    "        else:\n",
    "            sub_labels.append('N')\n",
    "\n",
    "    sub_df['label'] = sub_labels\n",
    "\n",
    "    print(sub_df.head)\n",
    "\n",
    "    sub_df.to_csv(sub, sep=\"\\t\")"
   ]
  },
  {
   "cell_type": "code",
   "execution_count": 2,
   "outputs": [
    {
     "name": "stdout",
     "output_type": "stream",
     "text": [
      "['s02e06.tsv', 's02e04.tsv', 's05e08.tsv', 's03e21.tsv', 's04e14.tsv', 's02e09.tsv', 's02e15.tsv', 's04e06.tsv', 's02e10.tsv', 's04e05.tsv', 's05e12.tsv', 's05e17.tsv', 's03e03.tsv', 's04e15.tsv', 's03e08.tsv', 's03e05.tsv', 's04e23.tsv', 's03e19.tsv', 's05e06.tsv', 's05e03.tsv', 's05e13.tsv', 's04e12.tsv', 's05e05.tsv', 's01e07.tsv', 's02e01.tsv', 's05e21.tsv', 's04e09.tsv', 's04e22.tsv', 's01e20.tsv', 's04e10.tsv', 's01e08.tsv', 's01e19.tsv', 's01e13.tsv', 's04e21.tsv', 's05e22.tsv', 's03e11.tsv', 's05e10.tsv', 's01e23.tsv', 's03e12.tsv']\n"
     ]
    }
   ],
   "source": [
    "from glob import glob\n",
    "\n",
    "file_names = [x[-10:] for x in glob(\"perpetrator_identification/*\")]\n",
    "\n",
    "print(file_names)\n",
    "\n",
    "for name in file_names:\n",
    "    label_merger(name)"
   ],
   "metadata": {
    "collapsed": false,
    "pycharm": {
     "name": "#%%\n"
    }
   }
  },
  {
   "cell_type": "code",
   "execution_count": 18,
   "outputs": [],
   "source": [
    "def move_labelled_data(f_name):\n",
    "    sub = \"cleaned_subs/\" + f_name\n",
    "    labeled_sub = \"labeled_subs/\" + f_name\n",
    "\n",
    "    sub_df = pd.read_csv(sub, sep=\"\\t\", index_col=0)\n",
    "\n",
    "    new_sub_df = sub_df.drop(columns=\"label\")\n",
    "\n",
    "    new_sub_df.to_csv(sub, sep=\"\\t\")\n",
    "    sub_df.to_csv(labeled_sub, sep=\"\\t\")\n"
   ],
   "metadata": {
    "collapsed": false,
    "pycharm": {
     "name": "#%%\n"
    }
   }
  },
  {
   "cell_type": "code",
   "execution_count": 7,
   "outputs": [
    {
     "name": "stderr",
     "output_type": "stream",
     "text": [
      "IOPub data rate exceeded.\n",
      "The notebook server will temporarily stop sending output\n",
      "to the client in order to avoid crashing it.\n",
      "To change this limit, set the config variable\n",
      "`--NotebookApp.iopub_data_rate_limit`.\n",
      "\n",
      "Current values:\n",
      "NotebookApp.iopub_data_rate_limit=1000000.0 (bytes/sec)\n",
      "NotebookApp.rate_limit_window=3.0 (secs)\n",
      "\n"
     ]
    }
   ],
   "source": [
    "def clean_perp_id(f_name):\n",
    "    label = \"perpetrator_identification/\" + f_name\n",
    "    f = \"cleaned_perpetrator_identification/\" + f_name\n",
    "\n",
    "    df = pd.read_csv(label, sep=\"\\t\")\n",
    "\n",
    "    max_sent_id = df['sentID'].max()\n",
    "\n",
    "    # new_df = pd.DataFrame(columns=[\"sentence\", \"killer_gold\", \"medion_time\"])\n",
    "\n",
    "    data = []\n",
    "\n",
    "    # print(df.loc[df['sentID'] == 0])\n",
    "\n",
    "    for id in range(0, max_sent_id):\n",
    "        rows = df.loc[df['sentID'] == id]\n",
    "        if \"None\" in rows['speaker']:\n",
    "            continue\n",
    "        killer = \"N\"\n",
    "        words = df['word'].tolist()\n",
    "        killer_gold = df['killer_gold'].tolist()\n",
    "        median_time = df['medion_time'].tolist()\n",
    "\n",
    "        sentence = \" \".join(words)\n",
    "        print(sentence)\n",
    "\n",
    "        if 'Y' in killer_gold:\n",
    "            killer = \"Y\"\n",
    "\n",
    "        data.append([sentence, killer, median_time[0]])\n",
    "\n",
    "\n",
    "    new_df = pd.DataFrame(data, columns=[\"sentence\", \"killer_gold\", \"medion_time\"])\n",
    "    print(new_df.head())\n",
    "\n",
    "    # new_df = df[['word','killer_gold','medion_time']]\n",
    "\n",
    "    # print(new_df.head())\n",
    "\n",
    "    # new_df.to_csv(f, sep=\"\\t\")\n",
    "\n",
    "clean_perp_id(\"s01e07.tsv\")"
   ],
   "metadata": {
    "collapsed": false,
    "pycharm": {
     "name": "#%%\n"
    }
   }
  },
  {
   "cell_type": "code",
   "execution_count": 42,
   "outputs": [
    {
     "name": "stdout",
     "output_type": "stream",
     "text": [
      "788\n",
      "     caseID  sentID speaker     word killer_gold other_gold suspect_gold  \\\n",
      "0         1       0    None        a           N          N            N   \n",
      "1         1       0    None     park           N          Y            N   \n",
      "2         1       0    None   ranger           N          Y            N   \n",
      "3         1       0    None  driving           N          N            N   \n",
      "4         1       0    None    along           N          N            N   \n",
      "5         1       0    None      the           N          N            N   \n",
      "6         1       0    None     road           N          N            N   \n",
      "7         1       0    None    route           N          N            N   \n",
      "8         1       0    None      and           N          N            N   \n",
      "9         1       0    None  notices           N          N            N   \n",
      "10        1       0    None        a           N          N            N   \n",
      "11        1       0    None      car           N          N            N   \n",
      "12        1       0    None   parked           N          N            N   \n",
      "13        1       0    None       on           N          N            N   \n",
      "14        1       0    None      the           N          N            N   \n",
      "15        1       0    None     side           N          N            N   \n",
      "16        1       0    None       of           N          N            N   \n",
      "17        1       0    None      the           N          N            N   \n",
      "18        1       0    None     road           N          N            N   \n",
      "518       2       0    None  warrick           N          Y            N   \n",
      "519       2       0    None       's           N          N            N   \n",
      "520       2       0    None      suv           N          N            N   \n",
      "521       2       0    None    stops           N          N            N   \n",
      "522       2       0    None  outside           N          N            N   \n",
      "523       2       0    None      the           N          N            N   \n",
      "524       2       0    None    hotel           N          N            N   \n",
      "\n",
      "    human_guess   medion_time       start_time         end_time  \\\n",
      "0             N  00:00:07.799  00:00:06.002000  00:00:09.597000   \n",
      "1             N  00:00:07.799  00:00:06.002000  00:00:09.597000   \n",
      "2             N  00:00:07.799  00:00:06.002000  00:00:09.597000   \n",
      "3             N  00:00:07.799  00:00:06.002000  00:00:09.597000   \n",
      "4             N  00:00:07.799  00:00:06.002000  00:00:09.597000   \n",
      "5             N  00:00:07.799  00:00:06.002000  00:00:09.597000   \n",
      "6             N  00:00:07.799  00:00:06.002000  00:00:09.597000   \n",
      "7             N  00:00:07.799  00:00:06.002000  00:00:09.597000   \n",
      "8             N  00:00:07.799  00:00:06.002000  00:00:09.597000   \n",
      "9             N  00:00:07.799  00:00:06.002000  00:00:09.597000   \n",
      "10            N  00:00:07.799  00:00:06.002000  00:00:09.597000   \n",
      "11            N  00:00:07.799  00:00:06.002000  00:00:09.597000   \n",
      "12            N  00:00:07.799  00:00:06.002000  00:00:09.597000   \n",
      "13            N  00:00:07.799  00:00:06.002000  00:00:09.597000   \n",
      "14            N  00:00:07.799  00:00:06.002000  00:00:09.597000   \n",
      "15            N  00:00:07.799  00:00:06.002000  00:00:09.597000   \n",
      "16            N  00:00:07.799  00:00:06.002000  00:00:09.597000   \n",
      "17            N  00:00:07.799  00:00:06.002000  00:00:09.597000   \n",
      "18            N  00:00:07.799  00:00:06.002000  00:00:09.597000   \n",
      "518           N  00:03:33.697  00:03:32.069000  00:03:35.326000   \n",
      "519           N  00:03:33.697  00:03:32.069000  00:03:35.326000   \n",
      "520           N  00:03:33.697  00:03:32.069000  00:03:35.326000   \n",
      "521           N  00:03:33.697  00:03:32.069000  00:03:35.326000   \n",
      "522           N  00:03:33.697  00:03:32.069000  00:03:35.326000   \n",
      "523           N  00:03:33.697  00:03:32.069000  00:03:35.326000   \n",
      "524           N  00:03:33.697  00:03:32.069000  00:03:35.326000   \n",
      "\n",
      "            i1_time         i2_time         i3_time         i4_time  \\\n",
      "0    00:00:06.42133  00:00:06.45333  00:00:07.37067  00:00:09.19467   \n",
      "1    00:00:06.42133  00:00:06.45333  00:00:07.37067  00:00:09.19467   \n",
      "2    00:00:06.42133  00:00:06.45333  00:00:07.37067  00:00:09.19467   \n",
      "3    00:00:06.42133  00:00:06.45333  00:00:07.37067  00:00:09.19467   \n",
      "4    00:00:06.42133  00:00:06.45333  00:00:07.37067  00:00:09.19467   \n",
      "5    00:00:06.42133  00:00:06.45333  00:00:07.37067  00:00:09.19467   \n",
      "6    00:00:06.42133  00:00:06.45333  00:00:07.37067  00:00:09.19467   \n",
      "7    00:00:06.42133  00:00:06.45333  00:00:07.37067  00:00:09.19467   \n",
      "8    00:00:06.42133  00:00:06.45333  00:00:07.37067  00:00:09.19467   \n",
      "9    00:00:06.42133  00:00:06.45333  00:00:07.37067  00:00:09.19467   \n",
      "10   00:00:06.42133  00:00:06.45333  00:00:07.37067  00:00:09.19467   \n",
      "11   00:00:06.42133  00:00:06.45333  00:00:07.37067  00:00:09.19467   \n",
      "12   00:00:06.42133  00:00:06.45333  00:00:07.37067  00:00:09.19467   \n",
      "13   00:00:06.42133  00:00:06.45333  00:00:07.37067  00:00:09.19467   \n",
      "14   00:00:06.42133  00:00:06.45333  00:00:07.37067  00:00:09.19467   \n",
      "15   00:00:06.42133  00:00:06.45333  00:00:07.37067  00:00:09.19467   \n",
      "16   00:00:06.42133  00:00:06.45333  00:00:07.37067  00:00:09.19467   \n",
      "17   00:00:06.42133  00:00:06.45333  00:00:07.37067  00:00:09.19467   \n",
      "18   00:00:06.42133  00:00:06.45333  00:00:07.37067  00:00:09.19467   \n",
      "518  00:03:33.39200  00:03:33.75467  00:03:34.07467  00:03:34.86400   \n",
      "519  00:03:33.39200  00:03:33.75467  00:03:34.07467  00:03:34.86400   \n",
      "520  00:03:33.39200  00:03:33.75467  00:03:34.07467  00:03:34.86400   \n",
      "521  00:03:33.39200  00:03:33.75467  00:03:34.07467  00:03:34.86400   \n",
      "522  00:03:33.39200  00:03:33.75467  00:03:34.07467  00:03:34.86400   \n",
      "523  00:03:33.39200  00:03:33.75467  00:03:34.07467  00:03:34.86400   \n",
      "524  00:03:33.39200  00:03:33.75467  00:03:34.07467  00:03:34.86400   \n",
      "\n",
      "            i5_time  \n",
      "0    00:00:09.29067  \n",
      "1    00:00:09.29067  \n",
      "2    00:00:09.29067  \n",
      "3    00:00:09.29067  \n",
      "4    00:00:09.29067  \n",
      "5    00:00:09.29067  \n",
      "6    00:00:09.29067  \n",
      "7    00:00:09.29067  \n",
      "8    00:00:09.29067  \n",
      "9    00:00:09.29067  \n",
      "10   00:00:09.29067  \n",
      "11   00:00:09.29067  \n",
      "12   00:00:09.29067  \n",
      "13   00:00:09.29067  \n",
      "14   00:00:09.29067  \n",
      "15   00:00:09.29067  \n",
      "16   00:00:09.29067  \n",
      "17   00:00:09.29067  \n",
      "18   00:00:09.29067  \n",
      "518  00:03:35.05067  \n",
      "519  00:03:35.05067  \n",
      "520  00:03:35.05067  \n",
      "521  00:03:35.05067  \n",
      "522  00:03:35.05067  \n",
      "523  00:03:35.05067  \n",
      "524  00:03:35.05067  \n",
      "     caseID  sentID speaker     word killer_gold other_gold suspect_gold  \\\n",
      "0         1       0    None        a           N          N            N   \n",
      "1         1       0    None     park           N          Y            N   \n",
      "2         1       0    None   ranger           N          Y            N   \n",
      "3         1       0    None  driving           N          N            N   \n",
      "4         1       0    None    along           N          N            N   \n",
      "5         1       0    None      the           N          N            N   \n",
      "6         1       0    None     road           N          N            N   \n",
      "7         1       0    None    route           N          N            N   \n",
      "8         1       0    None      and           N          N            N   \n",
      "9         1       0    None  notices           N          N            N   \n",
      "10        1       0    None        a           N          N            N   \n",
      "11        1       0    None      car           N          N            N   \n",
      "12        1       0    None   parked           N          N            N   \n",
      "13        1       0    None       on           N          N            N   \n",
      "14        1       0    None      the           N          N            N   \n",
      "15        1       0    None     side           N          N            N   \n",
      "16        1       0    None       of           N          N            N   \n",
      "17        1       0    None      the           N          N            N   \n",
      "18        1       0    None     road           N          N            N   \n",
      "518       2       0    None  warrick           N          Y            N   \n",
      "519       2       0    None       's           N          N            N   \n",
      "520       2       0    None      suv           N          N            N   \n",
      "521       2       0    None    stops           N          N            N   \n",
      "522       2       0    None  outside           N          N            N   \n",
      "523       2       0    None      the           N          N            N   \n",
      "524       2       0    None    hotel           N          N            N   \n",
      "\n",
      "    human_guess   medion_time       start_time         end_time  \\\n",
      "0             N  00:00:07.799  00:00:06.002000  00:00:09.597000   \n",
      "1             N  00:00:07.799  00:00:06.002000  00:00:09.597000   \n",
      "2             N  00:00:07.799  00:00:06.002000  00:00:09.597000   \n",
      "3             N  00:00:07.799  00:00:06.002000  00:00:09.597000   \n",
      "4             N  00:00:07.799  00:00:06.002000  00:00:09.597000   \n",
      "5             N  00:00:07.799  00:00:06.002000  00:00:09.597000   \n",
      "6             N  00:00:07.799  00:00:06.002000  00:00:09.597000   \n",
      "7             N  00:00:07.799  00:00:06.002000  00:00:09.597000   \n",
      "8             N  00:00:07.799  00:00:06.002000  00:00:09.597000   \n",
      "9             N  00:00:07.799  00:00:06.002000  00:00:09.597000   \n",
      "10            N  00:00:07.799  00:00:06.002000  00:00:09.597000   \n",
      "11            N  00:00:07.799  00:00:06.002000  00:00:09.597000   \n",
      "12            N  00:00:07.799  00:00:06.002000  00:00:09.597000   \n",
      "13            N  00:00:07.799  00:00:06.002000  00:00:09.597000   \n",
      "14            N  00:00:07.799  00:00:06.002000  00:00:09.597000   \n",
      "15            N  00:00:07.799  00:00:06.002000  00:00:09.597000   \n",
      "16            N  00:00:07.799  00:00:06.002000  00:00:09.597000   \n",
      "17            N  00:00:07.799  00:00:06.002000  00:00:09.597000   \n",
      "18            N  00:00:07.799  00:00:06.002000  00:00:09.597000   \n",
      "518           N  00:03:33.697  00:03:32.069000  00:03:35.326000   \n",
      "519           N  00:03:33.697  00:03:32.069000  00:03:35.326000   \n",
      "520           N  00:03:33.697  00:03:32.069000  00:03:35.326000   \n",
      "521           N  00:03:33.697  00:03:32.069000  00:03:35.326000   \n",
      "522           N  00:03:33.697  00:03:32.069000  00:03:35.326000   \n",
      "523           N  00:03:33.697  00:03:32.069000  00:03:35.326000   \n",
      "524           N  00:03:33.697  00:03:32.069000  00:03:35.326000   \n",
      "\n",
      "            i1_time         i2_time         i3_time         i4_time  \\\n",
      "0    00:00:06.42133  00:00:06.45333  00:00:07.37067  00:00:09.19467   \n",
      "1    00:00:06.42133  00:00:06.45333  00:00:07.37067  00:00:09.19467   \n",
      "2    00:00:06.42133  00:00:06.45333  00:00:07.37067  00:00:09.19467   \n",
      "3    00:00:06.42133  00:00:06.45333  00:00:07.37067  00:00:09.19467   \n",
      "4    00:00:06.42133  00:00:06.45333  00:00:07.37067  00:00:09.19467   \n",
      "5    00:00:06.42133  00:00:06.45333  00:00:07.37067  00:00:09.19467   \n",
      "6    00:00:06.42133  00:00:06.45333  00:00:07.37067  00:00:09.19467   \n",
      "7    00:00:06.42133  00:00:06.45333  00:00:07.37067  00:00:09.19467   \n",
      "8    00:00:06.42133  00:00:06.45333  00:00:07.37067  00:00:09.19467   \n",
      "9    00:00:06.42133  00:00:06.45333  00:00:07.37067  00:00:09.19467   \n",
      "10   00:00:06.42133  00:00:06.45333  00:00:07.37067  00:00:09.19467   \n",
      "11   00:00:06.42133  00:00:06.45333  00:00:07.37067  00:00:09.19467   \n",
      "12   00:00:06.42133  00:00:06.45333  00:00:07.37067  00:00:09.19467   \n",
      "13   00:00:06.42133  00:00:06.45333  00:00:07.37067  00:00:09.19467   \n",
      "14   00:00:06.42133  00:00:06.45333  00:00:07.37067  00:00:09.19467   \n",
      "15   00:00:06.42133  00:00:06.45333  00:00:07.37067  00:00:09.19467   \n",
      "16   00:00:06.42133  00:00:06.45333  00:00:07.37067  00:00:09.19467   \n",
      "17   00:00:06.42133  00:00:06.45333  00:00:07.37067  00:00:09.19467   \n",
      "18   00:00:06.42133  00:00:06.45333  00:00:07.37067  00:00:09.19467   \n",
      "518  00:03:33.39200  00:03:33.75467  00:03:34.07467  00:03:34.86400   \n",
      "519  00:03:33.39200  00:03:33.75467  00:03:34.07467  00:03:34.86400   \n",
      "520  00:03:33.39200  00:03:33.75467  00:03:34.07467  00:03:34.86400   \n",
      "521  00:03:33.39200  00:03:33.75467  00:03:34.07467  00:03:34.86400   \n",
      "522  00:03:33.39200  00:03:33.75467  00:03:34.07467  00:03:34.86400   \n",
      "523  00:03:33.39200  00:03:33.75467  00:03:34.07467  00:03:34.86400   \n",
      "524  00:03:33.39200  00:03:33.75467  00:03:34.07467  00:03:34.86400   \n",
      "\n",
      "            i5_time  \n",
      "0    00:00:09.29067  \n",
      "1    00:00:09.29067  \n",
      "2    00:00:09.29067  \n",
      "3    00:00:09.29067  \n",
      "4    00:00:09.29067  \n",
      "5    00:00:09.29067  \n",
      "6    00:00:09.29067  \n",
      "7    00:00:09.29067  \n",
      "8    00:00:09.29067  \n",
      "9    00:00:09.29067  \n",
      "10   00:00:09.29067  \n",
      "11   00:00:09.29067  \n",
      "12   00:00:09.29067  \n",
      "13   00:00:09.29067  \n",
      "14   00:00:09.29067  \n",
      "15   00:00:09.29067  \n",
      "16   00:00:09.29067  \n",
      "17   00:00:09.29067  \n",
      "18   00:00:09.29067  \n",
      "518  00:03:35.05067  \n",
      "519  00:03:35.05067  \n",
      "520  00:03:35.05067  \n",
      "521  00:03:35.05067  \n",
      "522  00:03:35.05067  \n",
      "523  00:03:35.05067  \n",
      "524  00:03:35.05067  \n",
      "caseID\n"
     ]
    },
    {
     "ename": "AttributeError",
     "evalue": "'str' object has no attribute 'word'",
     "output_type": "error",
     "traceback": [
      "\u001B[0;31m---------------------------------------------------------------------------\u001B[0m",
      "\u001B[0;31mAttributeError\u001B[0m                            Traceback (most recent call last)",
      "Input \u001B[0;32mIn [42]\u001B[0m, in \u001B[0;36m<cell line: 5>\u001B[0;34m()\u001B[0m\n\u001B[1;32m      3\u001B[0m file_names \u001B[38;5;241m=\u001B[39m [x[\u001B[38;5;241m-\u001B[39m\u001B[38;5;241m10\u001B[39m:] \u001B[38;5;28;01mfor\u001B[39;00m x \u001B[38;5;129;01min\u001B[39;00m glob(\u001B[38;5;124m\"\u001B[39m\u001B[38;5;124mperpetrator_identification/*\u001B[39m\u001B[38;5;124m\"\u001B[39m)]\n\u001B[1;32m      5\u001B[0m \u001B[38;5;28;01mfor\u001B[39;00m name \u001B[38;5;129;01min\u001B[39;00m file_names:\n\u001B[0;32m----> 6\u001B[0m     \u001B[43mclean_perp_id\u001B[49m\u001B[43m(\u001B[49m\u001B[43mname\u001B[49m\u001B[43m)\u001B[49m\n",
      "Input \u001B[0;32mIn [41]\u001B[0m, in \u001B[0;36mclean_perp_id\u001B[0;34m(f_name)\u001B[0m\n\u001B[1;32m     20\u001B[0m \u001B[38;5;28;01mfor\u001B[39;00m row \u001B[38;5;129;01min\u001B[39;00m rows:\n\u001B[1;32m     21\u001B[0m     \u001B[38;5;28mprint\u001B[39m(row)\n\u001B[0;32m---> 22\u001B[0m     sent \u001B[38;5;241m+\u001B[39m\u001B[38;5;241m=\u001B[39m \u001B[43mrow\u001B[49m\u001B[38;5;241;43m.\u001B[39;49m\u001B[43mword\u001B[49m \u001B[38;5;241m+\u001B[39m \u001B[38;5;124m\"\u001B[39m\u001B[38;5;124m \u001B[39m\u001B[38;5;124m\"\u001B[39m\n\u001B[1;32m     23\u001B[0m     \u001B[38;5;28;01mif\u001B[39;00m row\u001B[38;5;241m.\u001B[39mkiller_gold \u001B[38;5;241m==\u001B[39m \u001B[38;5;124m\"\u001B[39m\u001B[38;5;124mY\u001B[39m\u001B[38;5;124m\"\u001B[39m:\n\u001B[1;32m     24\u001B[0m         killer \u001B[38;5;241m=\u001B[39m \u001B[38;5;124m\"\u001B[39m\u001B[38;5;124mY\u001B[39m\u001B[38;5;124m\"\u001B[39m\n",
      "\u001B[0;31mAttributeError\u001B[0m: 'str' object has no attribute 'word'"
     ]
    }
   ],
   "source": [
    "from glob import glob\n",
    "\n",
    "file_names = [x[-10:] for x in glob(\"perpetrator_identification/*\")]\n",
    "\n",
    "for name in file_names:\n",
    "    clean_perp_id(name)"
   ],
   "metadata": {
    "collapsed": false,
    "pycharm": {
     "name": "#%%\n"
    }
   }
  },
  {
   "cell_type": "code",
   "execution_count": null,
   "outputs": [],
   "source": [],
   "metadata": {
    "collapsed": false,
    "pycharm": {
     "name": "#%%\n"
    }
   }
  }
 ],
 "metadata": {
  "interpreter": {
   "hash": "c0a2902978563c8bcc7f82062c2ad45366e70aba911d3cca21d6ee8298cd12a7"
  },
  "kernelspec": {
   "display_name": "Python 3.8.8 ('venv': venv)",
   "language": "python",
   "name": "python3"
  },
  "language_info": {
   "codemirror_mode": {
    "name": "ipython",
    "version": 3
   },
   "file_extension": ".py",
   "mimetype": "text/x-python",
   "name": "python",
   "nbconvert_exporter": "python",
   "pygments_lexer": "ipython3",
   "version": "3.9.7"
  },
  "orig_nbformat": 4
 },
 "nbformat": 4,
 "nbformat_minor": 2
}