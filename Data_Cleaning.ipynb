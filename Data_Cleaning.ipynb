{
 "cells": [
  {
   "cell_type": "code",
   "execution_count": 2,
   "metadata": {},
   "outputs": [],
   "source": [
    "import pandas as pd"
   ]
  },
  {
   "cell_type": "code",
   "execution_count": 3,
   "metadata": {},
   "outputs": [
    {
     "data": {
      "text/html": [
       "<div>\n",
       "<style scoped>\n",
       "    .dataframe tbody tr th:only-of-type {\n",
       "        vertical-align: middle;\n",
       "    }\n",
       "\n",
       "    .dataframe tbody tr th {\n",
       "        vertical-align: top;\n",
       "    }\n",
       "\n",
       "    .dataframe thead th {\n",
       "        text-align: right;\n",
       "    }\n",
       "</style>\n",
       "<table border=\"1\" class=\"dataframe\">\n",
       "  <thead>\n",
       "    <tr style=\"text-align: right;\">\n",
       "      <th></th>\n",
       "      <th>0</th>\n",
       "      <th>1</th>\n",
       "    </tr>\n",
       "  </thead>\n",
       "  <tbody>\n",
       "    <tr>\n",
       "      <th>0</th>\n",
       "      <td>For Warrick</td>\n",
       "      <td>1. CSI: Crime Scene Investigation (2000–2015) ...</td>\n",
       "    </tr>\n",
       "    <tr>\n",
       "      <th>1</th>\n",
       "      <td>One to Go</td>\n",
       "      <td>2. CSI: Crime Scene Investigation (2000–2015) ...</td>\n",
       "    </tr>\n",
       "    <tr>\n",
       "      <th>2</th>\n",
       "      <td>Living Doll</td>\n",
       "      <td>3. CSI: Crime Scene Investigation (2000–2015) ...</td>\n",
       "    </tr>\n",
       "    <tr>\n",
       "      <th>3</th>\n",
       "      <td>Girls Gone Gadgets</td>\n",
       "      <td>4. CSI: Crime Scene Investigation (2000–2015) ...</td>\n",
       "    </tr>\n",
       "    <tr>\n",
       "      <th>4</th>\n",
       "      <td>Gum Drops</td>\n",
       "      <td>5. CSI: Crime Scene Investigation (2000–2015) ...</td>\n",
       "    </tr>\n",
       "  </tbody>\n",
       "</table>\n",
       "</div>"
      ],
      "text/plain": [
       "                    0                                                  1\n",
       "0         For Warrick  1. CSI: Crime Scene Investigation (2000–2015) ...\n",
       "1           One to Go  2. CSI: Crime Scene Investigation (2000–2015) ...\n",
       "2         Living Doll  3. CSI: Crime Scene Investigation (2000–2015) ...\n",
       "3  Girls Gone Gadgets  4. CSI: Crime Scene Investigation (2000–2015) ...\n",
       "4           Gum Drops  5. CSI: Crime Scene Investigation (2000–2015) ..."
      ]
     },
     "execution_count": 3,
     "metadata": {},
     "output_type": "execute_result"
    }
   ],
   "source": [
    "ranking_file =  \"metadata\\CSI_imdb_ranking_synopsis.csv\"\n",
    "\n",
    "rankings = pd.read_csv(ranking_file, header=None)\n",
    "\n",
    "rankings.head()"
   ]
  },
  {
   "cell_type": "code",
   "execution_count": 4,
   "metadata": {},
   "outputs": [],
   "source": [
    "test_cell = rankings[1][0]"
   ]
  },
  {
   "cell_type": "code",
   "execution_count": 5,
   "metadata": {},
   "outputs": [
    {
     "data": {
      "text/plain": [
       "\"1. CSI: Crime Scene Investigation (2000–2015) Episode: For Warrick (2008) TV-14 | 45 min | Crime, Drama, Mystery 9.0 Rate this CSIs past and present come together at the news of Warrick's death. But will Warrick's real killer successfully frame another police officer for his murder? Director: Richard J. Lewis | Stars: William Petersen , Marg Helgenberger , Gary Dourdan , George Eads Votes: 1,083\""
      ]
     },
     "execution_count": 5,
     "metadata": {},
     "output_type": "execute_result"
    }
   ],
   "source": [
    "test_cell"
   ]
  },
  {
   "cell_type": "code",
   "execution_count": 101,
   "metadata": {},
   "outputs": [],
   "source": [
    "def cell_splitter(test_cell):\n",
    "    test_cell = test_cell.replace('PG','14')\n",
    "    test_cell = test_cell.replace('MA','14')\n",
    "    rank, *r = test_cell.split('. CSI: Crime Scene Investigation (2000–2015) ')\n",
    "    season, *r = r[0].split('Episode: ')\n",
    "    name, *r = r[0].split(' TV-14 | ')\n",
    "    r = r[0].split('Crime, Drama, Mystery ')[1:]\n",
    "    rating, *r = r[0].split(' Rate this ')\n",
    "    # synopsis, *r = r[0].split(' Director: ')\n",
    "    # director, *r = r[0].split(' | Stars: ')\n",
    "    # stars, *r = r[0].split(' Votes: ')\n",
    "    # votes = r[0]\n",
    "    # name =  test_cell.split()\n",
    "    # print(rank, name, rating, sep='\\n')\n",
    "    return [rank, name, rating]\n",
    "\n"
   ]
  },
  {
   "cell_type": "code",
   "execution_count": 102,
   "metadata": {},
   "outputs": [
    {
     "data": {
      "text/plain": [
       "['1', 'For Warrick (2008)', '9.0']"
      ]
     },
     "execution_count": 102,
     "metadata": {},
     "output_type": "execute_result"
    }
   ],
   "source": [
    "cell_splitter(test_cell)"
   ]
  },
  {
   "cell_type": "code",
   "execution_count": 118,
   "metadata": {},
   "outputs": [],
   "source": [
    "new_rankings = pd.DataFrame(rankings[1].apply(cell_splitter).to_list(), columns=['rank_order', 'epsisode', 'rank'])"
   ]
  },
  {
   "cell_type": "code",
   "execution_count": 119,
   "metadata": {},
   "outputs": [],
   "source": [
    "new_rankings.to_csv(\"metadata\\CSI_imdb_ranking.csv\")"
   ]
  },
  {
   "cell_type": "code",
   "execution_count": null,
   "metadata": {},
   "outputs": [],
   "source": []
  }
 ],
 "metadata": {
  "interpreter": {
   "hash": "c0a2902978563c8bcc7f82062c2ad45366e70aba911d3cca21d6ee8298cd12a7"
  },
  "kernelspec": {
   "display_name": "Python 3.8.8 ('venv': venv)",
   "language": "python",
   "name": "python3"
  },
  "language_info": {
   "codemirror_mode": {
    "name": "ipython",
    "version": 3
   },
   "file_extension": ".py",
   "mimetype": "text/x-python",
   "name": "python",
   "nbconvert_exporter": "python",
   "pygments_lexer": "ipython3",
   "version": "3.8.8"
  },
  "orig_nbformat": 4
 },
 "nbformat": 4,
 "nbformat_minor": 2
}
